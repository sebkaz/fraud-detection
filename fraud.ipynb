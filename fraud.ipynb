{
 "cells": [
  {
   "cell_type": "code",
   "execution_count": 20,
   "id": "250cb84a",
   "metadata": {},
   "outputs": [],
   "source": [
    "import warnings\n",
    "warnings.filterwarnings('ignore')\n",
    "warnings.simplefilter('ignore')"
   ]
  },
  {
   "cell_type": "code",
   "execution_count": 19,
   "id": "0df40820",
   "metadata": {},
   "outputs": [],
   "source": [
    "# ==== Main ======\n",
    "import os\n",
    "import pandas as pd\n",
    "import numpy as np\n",
    "# ==== display option ===============\n",
    "pd.set_option('display.max_columns', 100)\n",
    "pd.set_option('display.max_rows', 400)\n",
    "pd.set_option('display.min_rows', 10)\n",
    "pd.set_option('display.expand_frame_repr', True)"
   ]
  },
  {
   "cell_type": "code",
   "execution_count": 13,
   "id": "01933f5e",
   "metadata": {},
   "outputs": [],
   "source": [
    "# ==== Grafika i wykresy ==================\n",
    "import matplotlib.pyplot as plt\n",
    "import matplotlib as mpl\n",
    "%matplotlib inline\n",
    "import seaborn as sns\n",
    "color = sns.color_palette()"
   ]
  },
  {
   "cell_type": "code",
   "execution_count": 21,
   "id": "b0abe73d",
   "metadata": {},
   "outputs": [],
   "source": [
    "# ==== DATA Preparation =================\n",
    "\n",
    "from sklearn import preprocessing as pp\n",
    "from scipy.stats import pearsonr\n",
    "from sklearn.model_selection import train_test_split, StratifiedKFold\n",
    "from sklearn.model_selection import StratifiedShuffleSplit, learning_curve\n",
    "from sklearn.base import clone\n",
    "from sklearn.metrics import log_loss, accuracy_score, precision_score, recall_score, f1_score\n",
    "from sklearn.metrics import confusion_matrix, precision_recall_curve, classification_report\n",
    "from sklearn.metrics import average_precision_score, roc_curve, auc, roc_auc_score\n",
    "from sklearn.preprocessing import RobustScaler, StandardScaler"
   ]
  },
  {
   "cell_type": "code",
   "execution_count": 5,
   "id": "52dd3142",
   "metadata": {},
   "outputs": [],
   "source": [
    "# Models\n",
    "\n",
    "from sklearn.dummy import DummyClassifier\n",
    "from sklearn.tree import DecisionTreeClassifier\n",
    "from sklearn.ensemble import RandomForestClassifier, GradientBoostingClassifier\n",
    "from sklearn.linear_model import LogisticRegression\n",
    "import xgboost as xgb\n",
    "import lightgbm as lgb "
   ]
  },
  {
   "cell_type": "code",
   "execution_count": 1,
   "id": "ac277adc",
   "metadata": {},
   "outputs": [],
   "source": [
    "# Zbiór MNIST 70000 rysunków cyfr\n",
    "from sklearn.datasets import fetch_openml\n",
    "\n",
    "mnist = fetch_openml('mnist_784', cache=True)"
   ]
  },
  {
   "cell_type": "code",
   "execution_count": 2,
   "id": "06fb263d",
   "metadata": {},
   "outputs": [],
   "source": [
    "X = mnist.data.values\n",
    "y = mnist.target"
   ]
  },
  {
   "cell_type": "code",
   "execution_count": 3,
   "id": "8d105bd9",
   "metadata": {},
   "outputs": [
    {
     "data": {
      "text/plain": [
       "array([[0., 0., 0., ..., 0., 0., 0.],\n",
       "       [0., 0., 0., ..., 0., 0., 0.],\n",
       "       [0., 0., 0., ..., 0., 0., 0.],\n",
       "       ...,\n",
       "       [0., 0., 0., ..., 0., 0., 0.],\n",
       "       [0., 0., 0., ..., 0., 0., 0.],\n",
       "       [0., 0., 0., ..., 0., 0., 0.]])"
      ]
     },
     "execution_count": 3,
     "metadata": {},
     "output_type": "execute_result"
    }
   ],
   "source": [
    "X # 70000 obrazków i każdy ma 784 (28 x 28) cechy "
   ]
  },
  {
   "cell_type": "code",
   "execution_count": 4,
   "id": "cd30f245",
   "metadata": {},
   "outputs": [
    {
     "data": {
      "text/plain": [
       "0        5\n",
       "1        0\n",
       "2        4\n",
       "3        1\n",
       "4        9\n",
       "        ..\n",
       "69995    2\n",
       "69996    3\n",
       "69997    4\n",
       "69998    5\n",
       "69999    6\n",
       "Name: class, Length: 70000, dtype: category\n",
       "Categories (10, object): ['0', '1', '2', '3', ..., '6', '7', '8', '9']"
      ]
     },
     "execution_count": 4,
     "metadata": {},
     "output_type": "execute_result"
    }
   ],
   "source": [
    "y"
   ]
  },
  {
   "cell_type": "code",
   "execution_count": 5,
   "id": "2971c087",
   "metadata": {},
   "outputs": [],
   "source": [
    "y = y.astype(int)"
   ]
  },
  {
   "cell_type": "code",
   "execution_count": 6,
   "id": "5f4518d8",
   "metadata": {},
   "outputs": [
    {
     "data": {
      "text/plain": [
       "(70000, 784)"
      ]
     },
     "execution_count": 6,
     "metadata": {},
     "output_type": "execute_result"
    }
   ],
   "source": [
    "X.shape"
   ]
  },
  {
   "cell_type": "code",
   "execution_count": 7,
   "id": "03044214",
   "metadata": {},
   "outputs": [
    {
     "data": {
      "text/plain": [
       "(70000,)"
      ]
     },
     "execution_count": 7,
     "metadata": {},
     "output_type": "execute_result"
    }
   ],
   "source": [
    "y.shape"
   ]
  },
  {
   "cell_type": "code",
   "execution_count": 8,
   "id": "2597daca",
   "metadata": {},
   "outputs": [],
   "source": [
    "some_number = X[69998]"
   ]
  },
  {
   "cell_type": "code",
   "execution_count": 9,
   "id": "9dec35af",
   "metadata": {},
   "outputs": [
    {
     "data": {
      "text/plain": [
       "array([  0.,   0.,   0.,   0.,   0.,   0.,   0.,   0.,   0.,   0.,   0.,\n",
       "         0.,   0.,   0.,   0.,   0.,   0.,   0.,   0.,   0.,   0.,   0.,\n",
       "         0.,   0.,   0.,   0.,   0.,   0.,   0.,   0.,   0.,   0.,   0.,\n",
       "         0.,   0.,   0.,   0.,   0.,   0.,   0.,   0.,   0.,   0.,   0.,\n",
       "         0.,   0.,   0.,   0.,   0.,   0.,   0.,   0.,   0.,   0.,   0.,\n",
       "         0.,   0.,   0.,   0.,   0.,   0.,   0.,   0.,   0.,   0.,   0.,\n",
       "         0.,   0.,   0.,   0.,   0.,   0.,   0.,   0.,   0.,   0.,   0.,\n",
       "         0.,   0.,   0.,   0.,   0.,   0.,   0.,   0.,   0.,   0.,   0.,\n",
       "         0.,   0.,   0.,   0.,   0.,   0.,   0.,   0.,   0.,   0.,   0.,\n",
       "         0.,   0.,   0.,   0.,   0.,   0.,   0.,   0.,   0.,   0.,   0.,\n",
       "         0.,   0.,   0.,   0.,   0.,   0.,   0.,   0.,   0.,   0.,   0.,\n",
       "         0.,   0.,   0.,   0.,   0.,   0.,   0.,   0.,   0.,   0.,   0.,\n",
       "         0.,   0.,   0.,   0.,   0.,   0.,   0.,   0.,   0.,   0.,   0.,\n",
       "         0.,   0.,   0.,   0.,   0.,   0.,   0.,   0.,   0.,   0.,   0.,\n",
       "         0.,   0.,   0.,   0.,   0.,   0.,   0.,   0.,   0.,   0.,   0.,\n",
       "         0.,   0.,   0.,   0.,   0.,   0.,   0.,   0.,   0.,   0.,   0.,\n",
       "         0.,   0.,   0.,   0.,   0.,   0.,   0.,   0.,   0.,   0.,   0.,\n",
       "         0.,   0.,   0.,   0.,   0.,   0.,   0.,   0.,   0.,   0.,   0.,\n",
       "         0.,   0.,   0.,   0.,   0.,   0.,   0.,   0.,   0.,   0.,   0.,\n",
       "         0.,   0.,   0.,   0.,   0.,   0.,   0.,   0.,   0.,   0.,   0.,\n",
       "         0.,   0.,   0.,   0.,   0.,   0.,   0.,   0.,   0.,   0.,   0.,\n",
       "         0.,   0.,   0.,   0.,   0.,   8.,  10.,  78.,   0.,   0.,   0.,\n",
       "         0.,   0.,   0.,   0.,  15., 104., 104., 104.,  69.,   0.,   0.,\n",
       "         0.,   0.,   0.,   0.,   0.,   0.,   0.,   0.,   0.,   0., 123.,\n",
       "       238., 254., 235., 159.,  76., 111.,  76., 115., 169., 169., 238.,\n",
       "       254., 254., 254., 254.,   0.,   0.,   0.,   0.,   0.,   0.,   0.,\n",
       "         0.,   0.,   0.,   0.,  71., 252., 254., 254., 254., 254., 254.,\n",
       "       254., 254., 254., 254., 254., 254., 254., 254., 248., 102.,   0.,\n",
       "         0.,   0.,   0.,   0.,   0.,   0.,   0.,   0.,   0.,   0.,  83.,\n",
       "       254., 254., 254., 254., 254., 247., 236., 221., 179., 235., 182.,\n",
       "       140., 110.,  47.,  42.,   0.,   0.,   0.,   0.,   0.,   0.,   0.,\n",
       "         0.,   0.,   0.,   0.,  39., 229., 254., 254., 194., 169., 124.,\n",
       "        47.,   0.,   0.,   0.,   0.,   0.,   0.,   0.,   0.,   0.,   0.,\n",
       "         0.,   0.,   0.,   0.,   0.,   0.,   0.,   0.,   0.,   0.,  83.,\n",
       "       254., 254., 254., 248., 133.,  51.,   0.,   0.,   0.,   0.,   0.,\n",
       "         0.,   0.,   0.,   0.,   0.,   0.,   0.,   0.,   0.,   0.,   0.,\n",
       "         0.,   0.,   0.,   0.,   0.,   5., 213., 254., 254., 254., 254.,\n",
       "       249.,  91.,   0.,   0.,   0.,   0.,   0.,   0.,   0.,   0.,   0.,\n",
       "         0.,   0.,   0.,   0.,   0.,   0.,   0.,   0.,   0.,   0.,   0.,\n",
       "         0.,  44., 152., 201., 254., 254., 254., 135.,   0.,   0.,   0.,\n",
       "         0.,   0.,   0.,   0.,   0.,   0.,   0.,   0.,   0.,   0.,   0.,\n",
       "         0.,   0.,   0.,   0.,  25., 237., 106.,   0.,   0.,   0.,  32.,\n",
       "       200., 254., 255.,  50.,   0.,   0.,   0.,   0.,   0.,   0.,   0.,\n",
       "         0.,   0.,   0.,   0.,   0.,   0.,   0.,   0.,   0.,   0., 123.,\n",
       "       251., 181.,   0.,   0.,   0.,  13., 156., 254., 254., 126.,   0.,\n",
       "         0.,   0.,   0.,   0.,   0.,   0.,   0.,   0.,   0.,   0.,   0.,\n",
       "         0.,   0.,   0.,   0.,   0., 254., 254.,  56.,   0.,   0.,   0.,\n",
       "        85., 254., 254., 254.,   0.,   0.,   0.,   0.,   0.,   0.,   0.,\n",
       "         0.,   0.,   0.,   0.,   0.,   0.,   0.,   0.,   0.,   0.,   0.,\n",
       "       198., 254., 149.,  54.,   0.,   0.,  60., 251., 254., 254.,  29.,\n",
       "         0.,   0.,   0.,   0.,   0.,   0.,   0.,   0.,   0.,   0.,   0.,\n",
       "         0.,   0.,   0.,   0.,   0.,   0.,  89., 248., 254., 220., 107.,\n",
       "       148., 236., 253., 248., 171.,   7.,   0.,   0.,   0.,   0.,   0.,\n",
       "         0.,   0.,   0.,   0.,   0.,   0.,   0.,   0.,   0.,   0.,   0.,\n",
       "         0.,   0., 139., 249., 254., 254., 254., 254., 249., 173.,   0.,\n",
       "         0.,   0.,   0.,   0.,   0.,   0.,   0.,   0.,   0.,   0.,   0.,\n",
       "         0.,   0.,   0.,   0.,   0.,   0.,   0.,   0.,   0.,  97., 194.,\n",
       "       254., 254., 254., 134.,   0.,   0.,   0.,   0.,   0.,   0.,   0.,\n",
       "         0.,   0.,   0.,   0.,   0.,   0.,   0.,   0.,   0.,   0.,   0.,\n",
       "         0.,   0.,   0.,   0.,   0.,   3.,  97., 103.,  37.,   1.,   0.,\n",
       "         0.,   0.,   0.,   0.,   0.,   0.,   0.,   0.,   0.,   0.,   0.,\n",
       "         0.,   0.,   0.,   0.,   0.,   0.,   0.,   0.,   0.,   0.,   0.,\n",
       "         0.,   0.,   0.,   0.,   0.,   0.,   0.,   0.,   0.,   0.,   0.,\n",
       "         0.,   0.,   0.,   0.,   0.,   0.,   0.,   0.,   0.,   0.,   0.,\n",
       "         0.,   0.,   0.,   0.,   0.,   0.,   0.,   0.,   0.,   0.,   0.,\n",
       "         0.,   0.,   0.,   0.,   0.,   0.,   0.,   0.,   0.,   0.,   0.,\n",
       "         0.,   0.,   0.,   0.,   0.,   0.,   0.,   0.,   0.,   0.,   0.,\n",
       "         0.,   0.,   0.,   0.,   0.,   0.,   0.,   0.,   0.,   0.,   0.,\n",
       "         0.,   0.,   0.,   0.,   0.,   0.,   0.,   0.,   0.,   0.,   0.,\n",
       "         0.,   0.,   0.,   0.,   0.,   0.,   0.,   0.,   0.,   0.,   0.,\n",
       "         0.,   0.,   0.,   0.,   0.,   0.,   0.,   0.,   0.,   0.,   0.,\n",
       "         0.,   0.,   0.])"
      ]
     },
     "execution_count": 9,
     "metadata": {},
     "output_type": "execute_result"
    }
   ],
   "source": [
    "some_number"
   ]
  },
  {
   "cell_type": "code",
   "execution_count": 10,
   "id": "0d0c8615",
   "metadata": {},
   "outputs": [],
   "source": [
    "some_number_image = some_number.reshape(28,28)"
   ]
  },
  {
   "cell_type": "code",
   "execution_count": 14,
   "id": "81648b86",
   "metadata": {},
   "outputs": [
    {
     "data": {
      "text/plain": [
       "<matplotlib.image.AxesImage at 0x11c703df0>"
      ]
     },
     "execution_count": 14,
     "metadata": {},
     "output_type": "execute_result"
    },
    {
     "data": {
      "image/png": "[encoded data removed]",
      "text/plain": [
       "<Figure size 432x288 with 1 Axes>"
      ]
     },
     "metadata": {
      "needs_background": "light"
     },
     "output_type": "display_data"
    }
   ],
   "source": [
    "plt.imshow(some_number_image)"
   ]
  },
  {
   "cell_type": "code",
   "execution_count": 15,
   "id": "0d73fdcd",
   "metadata": {},
   "outputs": [
    {
     "data": {
      "text/plain": [
       "5"
      ]
     },
     "execution_count": 15,
     "metadata": {},
     "output_type": "execute_result"
    }
   ],
   "source": [
    "y[69998]"
   ]
  },
  {
   "cell_type": "code",
   "execution_count": 16,
   "id": "8c9ad6ef",
   "metadata": {},
   "outputs": [],
   "source": [
    "X_train, X_test, y_train, y_test = X[:60000], X[60000:],y[:60000],y[60000:]"
   ]
  },
  {
   "cell_type": "code",
   "execution_count": 17,
   "id": "962be8dd",
   "metadata": {},
   "outputs": [
    {
     "data": {
      "text/plain": [
       "((60000, 784), (60000,))"
      ]
     },
     "execution_count": 17,
     "metadata": {},
     "output_type": "execute_result"
    }
   ],
   "source": [
    "X_train.shape, y_train.shape"
   ]
  },
  {
   "cell_type": "code",
   "execution_count": 22,
   "id": "d9c95666",
   "metadata": {},
   "outputs": [],
   "source": [
    "# tasowanie danych - \n",
    "shuffle_index = np.random.permutation(60000)"
   ]
  },
  {
   "cell_type": "code",
   "execution_count": 23,
   "id": "357ff5fd",
   "metadata": {},
   "outputs": [],
   "source": [
    "X_train, y_train = X_train[shuffle_index], y_train[shuffle_index]"
   ]
  },
  {
   "cell_type": "code",
   "execution_count": 24,
   "id": "73b9903a",
   "metadata": {},
   "outputs": [],
   "source": [
    "# identyfikowanie binarne np 5 ! dwie klasy: jest 5 nie - to nie jest 5 \n",
    "y_train_5 = np.where(y_train==5, 1, 0)\n",
    "y_test_5 = np.where(y_test==5, 1, 0)"
   ]
  },
  {
   "cell_type": "code",
   "execution_count": 25,
   "id": "534132b0",
   "metadata": {},
   "outputs": [],
   "source": [
    "# wybierzmy jakiś prosty klasyfikator \n",
    "from sklearn.linear_model import SGDClassifier"
   ]
  },
  {
   "cell_type": "code",
   "execution_count": 26,
   "id": "13d5313e",
   "metadata": {},
   "outputs": [
    {
     "data": {
      "text/html": [
       "<style>#sk-container-id-1 {color: black;background-color: white;}#sk-container-id-1 pre{padding: 0;}#sk-container-id-1 div.sk-toggleable {background-color: white;}#sk-container-id-1 label.sk-toggleable__label {cursor: pointer;display: block;width: 100%;margin-bottom: 0;padding: 0.3em;box-sizing: border-box;text-align: center;}#sk-container-id-1 label.sk-toggleable__label-arrow:before {content: \"▸\";float: left;margin-right: 0.25em;color: #696969;}#sk-container-id-1 label.sk-toggleable__label-arrow:hover:before {color: black;}#sk-container-id-1 div.sk-estimator:hover label.sk-toggleable__label-arrow:before {color: black;}#sk-container-id-1 div.sk-toggleable__content {max-height: 0;max-width: 0;overflow: hidden;text-align: left;background-color: #f0f8ff;}#sk-container-id-1 div.sk-toggleable__content pre {margin: 0.2em;color: black;border-radius: 0.25em;background-color: #f0f8ff;}#sk-container-id-1 input.sk-toggleable__control:checked~div.sk-toggleable__content {max-height: 200px;max-width: 100%;overflow: auto;}#sk-container-id-1 input.sk-toggleable__control:checked~label.sk-toggleable__label-arrow:before {content: \"▾\";}#sk-container-id-1 div.sk-estimator input.sk-toggleable__control:checked~label.sk-toggleable__label {background-color: #d4ebff;}#sk-container-id-1 div.sk-label input.sk-toggleable__control:checked~label.sk-toggleable__label {background-color: #d4ebff;}#sk-container-id-1 input.sk-hidden--visually {border: 0;clip: rect(1px 1px 1px 1px);clip: rect(1px, 1px, 1px, 1px);height: 1px;margin: -1px;overflow: hidden;padding: 0;position: absolute;width: 1px;}#sk-container-id-1 div.sk-estimator {font-family: monospace;background-color: #f0f8ff;border: 1px dotted black;border-radius: 0.25em;box-sizing: border-box;margin-bottom: 0.5em;}#sk-container-id-1 div.sk-estimator:hover {background-color: #d4ebff;}#sk-container-id-1 div.sk-parallel-item::after {content: \"\";width: 100%;border-bottom: 1px solid gray;flex-grow: 1;}#sk-container-id-1 div.sk-label:hover label.sk-toggleable__label {background-color: #d4ebff;}#sk-container-id-1 div.sk-serial::before {content: \"\";position: absolute;border-left: 1px solid gray;box-sizing: border-box;top: 0;bottom: 0;left: 50%;z-index: 0;}#sk-container-id-1 div.sk-serial {display: flex;flex-direction: column;align-items: center;background-color: white;padding-right: 0.2em;padding-left: 0.2em;position: relative;}#sk-container-id-1 div.sk-item {position: relative;z-index: 1;}#sk-container-id-1 div.sk-parallel {display: flex;align-items: stretch;justify-content: center;background-color: white;position: relative;}#sk-container-id-1 div.sk-item::before, #sk-container-id-1 div.sk-parallel-item::before {content: \"\";position: absolute;border-left: 1px solid gray;box-sizing: border-box;top: 0;bottom: 0;left: 50%;z-index: -1;}#sk-container-id-1 div.sk-parallel-item {display: flex;flex-direction: column;z-index: 1;position: relative;background-color: white;}#sk-container-id-1 div.sk-parallel-item:first-child::after {align-self: flex-end;width: 50%;}#sk-container-id-1 div.sk-parallel-item:last-child::after {align-self: flex-start;width: 50%;}#sk-container-id-1 div.sk-parallel-item:only-child::after {width: 0;}#sk-container-id-1 div.sk-dashed-wrapped {border: 1px dashed gray;margin: 0 0.4em 0.5em 0.4em;box-sizing: border-box;padding-bottom: 0.4em;background-color: white;}#sk-container-id-1 div.sk-label label {font-family: monospace;font-weight: bold;display: inline-block;line-height: 1.2em;}#sk-container-id-1 div.sk-label-container {text-align: center;}#sk-container-id-1 div.sk-container {/* jupyter's `normalize.less` sets `[hidden] { display: none; }` but bootstrap.min.css set `[hidden] { display: none !important; }` so we also need the `!important` here to be able to override the default hidden behavior on the sphinx rendered scikit-learn.org. See: https://github.com/scikit-learn/scikit-learn/issues/21755 */display: inline-block !important;position: relative;}#sk-container-id-1 div.sk-text-repr-fallback {display: none;}</style><div id=\"sk-container-id-1\" class=\"sk-top-container\"><div class=\"sk-text-repr-fallback\"><pre>SGDClassifier(random_state=43)</pre><b>In a Jupyter environment, please rerun this cell to show the HTML representation or trust the notebook. <br />On GitHub, the HTML representation is unable to render, please try loading this page with nbviewer.org.</b></div><div class=\"sk-container\" hidden><div class=\"sk-item\"><div class=\"sk-estimator sk-toggleable\"><input class=\"sk-toggleable__control sk-hidden--visually\" id=\"sk-estimator-id-1\" type=\"checkbox\" checked><label for=\"sk-estimator-id-1\" class=\"sk-toggleable__label sk-toggleable__label-arrow\">SGDClassifier</label><div class=\"sk-toggleable__content\"><pre>SGDClassifier(random_state=43)</pre></div></div></div></div></div>"
      ],
      "text/plain": [
       "SGDClassifier(random_state=43)"
      ]
     },
     "execution_count": 26,
     "metadata": {},
     "output_type": "execute_result"
    }
   ],
   "source": [
    "sgd = SGDClassifier(random_state=43)\n",
    "sgd.fit(X_train,y_train_5)"
   ]
  },
  {
   "cell_type": "code",
   "execution_count": 28,
   "id": "fd2a2bd0",
   "metadata": {},
   "outputs": [
    {
     "data": {
      "text/plain": [
       "array([1])"
      ]
     },
     "execution_count": 28,
     "metadata": {},
     "output_type": "execute_result"
    }
   ],
   "source": [
    "sgd.predict([some_number])"
   ]
  },
  {
   "cell_type": "code",
   "execution_count": 29,
   "id": "ee7ad2c5",
   "metadata": {},
   "outputs": [],
   "source": [
    "# ocenimy wydajność - ile % dobrze określił model \n",
    "\n",
    "from sklearn.model_selection import cross_val_score\n",
    "\n",
    "cross_val_score(sgd, X_train, y_train_5, cv=3, scoring='accuracy')"
   ]
  },
  {
   "cell_type": "markdown",
   "id": "e1bdfeb6",
   "metadata": {},
   "source": [
    "### Dokładność powyżej 95% !!! \n",
    "\n",
    "Ale czy to dobrze ? \n",
    "\n",
    "Bądźmy jak na Titanicu - określmy, że wszyscy umarli ! tzn. napiszmy klasyfikator, który zawsze zwróci nie_5"
   ]
  },
  {
   "cell_type": "code",
   "execution_count": null,
   "id": "2aacbc90",
   "metadata": {},
   "outputs": [],
   "source": [
    "from sklearn.base import BaseEstimator"
   ]
  },
  {
   "cell_type": "code",
   "execution_count": null,
   "id": "42fcaaae",
   "metadata": {},
   "outputs": [],
   "source": [
    "class Never5Classifier(BaseEstimator):\n",
    "    def fit(self, X, y=None):\n",
    "        pass\n",
    "    def predict(self, X):\n",
    "        return np.zeros((len(X),1))"
   ]
  },
  {
   "cell_type": "markdown",
   "id": "ddefad7a",
   "metadata": {},
   "source": [
    "### Jak myślisz jaka będzie dokładność takiego modelu ? "
   ]
  },
  {
   "cell_type": "code",
   "execution_count": null,
   "id": "d3b286bd",
   "metadata": {},
   "outputs": [],
   "source": [
    "never_5 = Never5Classifier()\n",
    "cross_val_score(never_5, X_train,y_train_5, cv=3, scoring='accuracy')"
   ]
  },
  {
   "cell_type": "markdown",
   "id": "ab36e06f",
   "metadata": {},
   "source": [
    "### Macierz pomyłek \n",
    "\n",
    "Znacznie lepszym sposobem oceny jakości klasyfikatora jest macierz pomyłek (confusion matrix)\n",
    "\n",
    "W celu obliczenia macierzy wpierw trzeba otrzymać prognozy\n",
    "\n",
    "Rząd reprezentuje rzeczywistą klasę, kolumna przewidywaną klasę. "
   ]
  },
  {
   "cell_type": "code",
   "execution_count": null,
   "id": "9e8a0cf6",
   "metadata": {},
   "outputs": [],
   "source": [
    "from sklearn.model_selection import cross_val_predict\n",
    "\n",
    "y_train_pred = cross_val_predict(sgd, X_train,y_train_5, cv=3)"
   ]
  },
  {
   "cell_type": "code",
   "execution_count": null,
   "id": "a35aaf52",
   "metadata": {},
   "outputs": [],
   "source": [
    "from sklearn.metrics import confusion_matrix\n",
    "\n",
    "confusion_matrix(y_train_5, y_train_pred)"
   ]
  },
  {
   "cell_type": "markdown",
   "id": "6c5c0dc1",
   "metadata": {},
   "source": [
    "Prawidłowo sklasyfikowane = 52583 (niebędące piątką Prawdziwe Negatywne)\n",
    "\n",
    "1996 = Fałszywie Pozytywne, \n",
    "\n",
    "1098 = Fałszywie Negatywne, oraz \n",
    "\n",
    "4323= Prawdziwie Pozytywne (będące piątkami)   \n",
    "\n",
    "(Wyniki mogą być różne ze względu na funkcję zmieniającą indeksy)"
   ]
  },
  {
   "cell_type": "markdown",
   "id": "8ea99d41",
   "metadata": {},
   "source": [
    "$$Precyzja = \\frac{PP}{PP+FP}$$ \n",
    "\n",
    "używana wraz z pełnością\n",
    "\n",
    "$ Pelnosc= \\frac{PP}{PP+FN} $, czułością lub odsetkiem pozytywnych"
   ]
  },
  {
   "cell_type": "code",
   "execution_count": null,
   "id": "3533a717",
   "metadata": {},
   "outputs": [],
   "source": [
    "from sklearn.metrics import precision_score, recall_score\n",
    "precision_score(y_train_5,y_train_pred)"
   ]
  },
  {
   "cell_type": "code",
   "execution_count": null,
   "id": "f41c4e81",
   "metadata": {},
   "outputs": [],
   "source": [
    "4544/(4544+1469) # nie myli się w 75% "
   ]
  },
  {
   "cell_type": "code",
   "execution_count": null,
   "id": "8fd80bd6",
   "metadata": {},
   "outputs": [],
   "source": [
    "recall_score(y_train_5,y_train_pred) "
   ]
  },
  {
   "cell_type": "code",
   "execution_count": null,
   "id": "0fc9e9e0",
   "metadata": {},
   "outputs": [],
   "source": [
    "4544/(4544+877) # rozpoznaje 83%"
   ]
  },
  {
   "cell_type": "markdown",
   "id": "ccbf4b60",
   "metadata": {},
   "source": [
    "## Prawdziwe dane \n",
    "\n",
    "Zanonimizowane transakcje kart kredytowych w Europie z 2013 roku. \n",
    "\n",
    "Oznakowane jako autentyczne (0) i fraudowe (1) - proces klasyfikacji binarnej\n",
    "\n",
    "\n"
   ]
  },
  {
   "cell_type": "code",
   "execution_count": null,
   "id": "15d44d9d",
   "metadata": {},
   "outputs": [],
   "source": [
    "DATA_DIR = 'dane'\n",
    "DATA_NAME = 'creditcard.csv'"
   ]
  },
  {
   "cell_type": "code",
   "execution_count": null,
   "id": "034081d8",
   "metadata": {},
   "outputs": [],
   "source": [
    "def load_csv_data():\n",
    "    csv_path = os.path.join(DATA_DIR,DATA_NAME)\n",
    "    return pd.read_csv(csv_path)"
   ]
  },
  {
   "cell_type": "code",
   "execution_count": null,
   "id": "a830f2b3",
   "metadata": {},
   "outputs": [],
   "source": [
    "df = load_csv_data()"
   ]
  },
  {
   "cell_type": "code",
   "execution_count": null,
   "id": "40ad7249",
   "metadata": {},
   "outputs": [],
   "source": [
    "df['Class'].value_counts()"
   ]
  },
  {
   "cell_type": "code",
   "execution_count": null,
   "id": "2d3d3d41",
   "metadata": {},
   "outputs": [],
   "source": [
    "sns.countplot(x='Class',data=df, palette='hls')\n",
    "plt.show()"
   ]
  },
  {
   "cell_type": "code",
   "execution_count": null,
   "id": "f8a006bb",
   "metadata": {},
   "outputs": [],
   "source": [
    "df.info()"
   ]
  },
  {
   "cell_type": "code",
   "execution_count": null,
   "id": "b30adfa9",
   "metadata": {},
   "outputs": [],
   "source": [
    "df.head()"
   ]
  },
  {
   "cell_type": "code",
   "execution_count": null,
   "id": "fb53058d",
   "metadata": {},
   "outputs": [],
   "source": [
    "df.sample(5)"
   ]
  },
  {
   "cell_type": "code",
   "execution_count": null,
   "id": "df2a1678",
   "metadata": {},
   "outputs": [],
   "source": [
    "target = df['Class']\n",
    "\n",
    "df2 = df.copy()\n",
    "df2 = df2.drop(columns=['Time'])\n",
    "df2 = df2.drop(columns=['Class','Unnamed: 0'])"
   ]
  },
  {
   "cell_type": "code",
   "execution_count": null,
   "id": "4c36497f",
   "metadata": {},
   "outputs": [],
   "source": [
    "df2.describe()"
   ]
  },
  {
   "cell_type": "code",
   "execution_count": null,
   "id": "54514223",
   "metadata": {},
   "outputs": [],
   "source": [
    "df3.info()"
   ]
  },
  {
   "cell_type": "code",
   "execution_count": null,
   "id": "f93664e1",
   "metadata": {},
   "outputs": [],
   "source": [
    "distinctCounter = df3.apply(lambda x: len(x.unique()))"
   ]
  },
  {
   "cell_type": "code",
   "execution_count": null,
   "id": "f254098d",
   "metadata": {},
   "outputs": [],
   "source": [
    "df3.dtypes.value_counts()"
   ]
  },
  {
   "cell_type": "code",
   "execution_count": null,
   "id": "f26364cd",
   "metadata": {},
   "outputs": [],
   "source": [
    "df2.isnull().any().any()"
   ]
  },
  {
   "cell_type": "code",
   "execution_count": null,
   "id": "c8ac90d2",
   "metadata": {},
   "outputs": [],
   "source": [
    "df2.hist(bins=50,figsize=(20,15))\n",
    "plt.show()"
   ]
  },
  {
   "cell_type": "code",
   "execution_count": null,
   "id": "2d37846b",
   "metadata": {},
   "outputs": [],
   "source": [
    "### EDA\n",
    "\n",
    "df['Amount'].hist(bins=50,figsize=(8,6))"
   ]
  },
  {
   "cell_type": "code",
   "execution_count": null,
   "id": "5d79ea98",
   "metadata": {},
   "outputs": [],
   "source": [
    "df[df['Class']==1]['Amount'].hist(bins=50,figsize=(8,6))"
   ]
  },
  {
   "cell_type": "code",
   "execution_count": null,
   "id": "9d6a6254",
   "metadata": {},
   "outputs": [],
   "source": [
    "corr_matrix = df2.corr()"
   ]
  },
  {
   "cell_type": "code",
   "execution_count": null,
   "id": "d1b48801",
   "metadata": {},
   "outputs": [],
   "source": [
    "corr_matrix['Class'].sort_values(ascending=False)"
   ]
  },
  {
   "cell_type": "code",
   "execution_count": null,
   "id": "df1dec31",
   "metadata": {},
   "outputs": [],
   "source": [
    "sns.heatmap(corr_matrix)"
   ]
  },
  {
   "cell_type": "code",
   "execution_count": null,
   "id": "25e63f83",
   "metadata": {},
   "outputs": [],
   "source": [
    "!pip install Advanced-scorecard-builder"
   ]
  },
  {
   "cell_type": "code",
   "execution_count": null,
   "id": "debc1e0e",
   "metadata": {},
   "outputs": [],
   "source": [
    "from AmaFree import AdvancedScorecardBuilder as asb"
   ]
  },
  {
   "cell_type": "code",
   "execution_count": null,
   "id": "c4a89acb",
   "metadata": {},
   "outputs": [],
   "source": [
    "X = df2\n",
    "t = asb(X,'Class')"
   ]
  },
  {
   "cell_type": "code",
   "execution_count": null,
   "id": "9713a653",
   "metadata": {},
   "outputs": [],
   "source": [
    "t.fit()"
   ]
  },
  {
   "cell_type": "code",
   "execution_count": null,
   "id": "56bc03c6",
   "metadata": {},
   "outputs": [],
   "source": [
    "t.get_scorecard()"
   ]
  },
  {
   "cell_type": "code",
   "execution_count": null,
   "id": "e0cc1e0d",
   "metadata": {},
   "outputs": [],
   "source": [
    "t.model_info_"
   ]
  },
  {
   "cell_type": "code",
   "execution_count": null,
   "id": "95066a1c",
   "metadata": {},
   "outputs": [],
   "source": [
    "t.html_report('raport.html')"
   ]
  },
  {
   "cell_type": "code",
   "execution_count": null,
   "id": "e1400262",
   "metadata": {},
   "outputs": [],
   "source": [
    "# logistic regresion\n",
    "penalty = 'l2' # mniej czułe na elementy odstające ni l1 - realizue stabilniejsze rozwiazanie\n",
    "C = 1.0 # siła regularyzacji - im mniejsza C tym silniejsza regularyzacja\n",
    "class_weight = 'balanced' # \n",
    "random_state = 2022\n",
    "solver = 'liblinear'\n",
    "logReg = LogisticRegression(penalty=penalty,\n",
    "C=C, class_weight=class_weight, random_state=random_state,\n",
    "solver=solver, n_jobs=-1)\n",
    "\n",
    "\n"
   ]
  }
 ],
 "metadata": {
  "interpreter": {
   "hash": "9a34b8528dd576dcb37ba920b05781a2f5826acfe7b3ee492d2ab541c12ef281"
  },
  "kernelspec": {
   "display_name": "Python 3.9.13 ('fraud': venv)",
   "language": "python",
   "name": "python3"
  },
  "language_info": {
   "codemirror_mode": {
    "name": "ipython",
    "version": 3
   },
   "file_extension": ".py",
   "mimetype": "text/x-python",
   "name": "python",
   "nbconvert_exporter": "python",
   "pygments_lexer": "ipython3",
   "version": "3.9.13"
  }
 },
 "nbformat": 4,
 "nbformat_minor": 5
}
