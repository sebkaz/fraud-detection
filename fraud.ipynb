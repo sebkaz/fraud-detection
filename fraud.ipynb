{
 "cells": [
  {
   "cell_type": "code",
   "execution_count": 1,
   "id": "250cb84a",
   "metadata": {},
   "outputs": [],
   "source": [
    "import warnings\n",
    "warnings.filterwarnings('ignore')\n",
    "warnings.simplefilter('ignore')"
   ]
  },
  {
   "cell_type": "code",
   "execution_count": 2,
   "id": "0df40820",
   "metadata": {},
   "outputs": [],
   "source": [
    "import os\n",
    "import pandas as pd\n",
    "import numpy as np\n",
    "pd.set_option('display.max_columns', 100)\n",
    "pd.set_option('display.max_rows', 400)\n",
    "pd.set_option('display.min_rows', 10)\n",
    "pd.set_option('display.expand_frame_repr', True)\n",
    "# Grafika\n",
    "import matplotlib.pyplot as plt \n",
    "%matplotlib inline\n",
    "import seaborn as sns\n",
    "\n",
    "# modelowanie\n",
    "from sklearn.model_selection import StratifiedShuffleSplit, StratifiedKFold\n",
    "from sklearn.model_selection import train_test_split, learning_curve\n",
    "from sklearn.base import clone\n",
    "from sklearn.metrics import accuracy_score, precision_score, recall_score, f1_score\n",
    "from sklearn.metrics import confusion_matrix, precision_recall_curve, classification_report\n",
    "from sklearn.preprocessing import RobustScaler, StandardScaler"
   ]
  },
  {
   "cell_type": "code",
   "execution_count": 3,
   "id": "ef54529b",
   "metadata": {},
   "outputs": [],
   "source": [
    "from sklearn.dummy import DummyClassifier\n",
    "from sklearn.tree import DecisionTreeClassifier\n",
    "from sklearn.ensemble import RandomForestClassifier, GradientBoostingClassifier\n",
    "from sklearn.linear_model import LogisticRegression\n",
    "import xgboost as xgb"
   ]
  },
  {
   "cell_type": "code",
   "execution_count": 4,
   "id": "ac277adc",
   "metadata": {},
   "outputs": [],
   "source": [
    "# Zbiór MNIST 70000 rysunków cyfr\n",
    "from sklearn.datasets import fetch_openml\n",
    "\n",
    "mnist = fetch_openml('mnist_784',cache=True)"
   ]
  },
  {
   "cell_type": "code",
   "execution_count": 5,
   "id": "06fb263d",
   "metadata": {},
   "outputs": [],
   "source": [
    "X = mnist.data.values\n",
    "y = mnist.target"
   ]
  },
  {
   "cell_type": "code",
   "execution_count": 6,
   "id": "8d105bd9",
   "metadata": {},
   "outputs": [
    {
     "data": {
      "text/plain": [
       "array([[0., 0., 0., ..., 0., 0., 0.],\n",
       "       [0., 0., 0., ..., 0., 0., 0.],\n",
       "       [0., 0., 0., ..., 0., 0., 0.],\n",
       "       ...,\n",
       "       [0., 0., 0., ..., 0., 0., 0.],\n",
       "       [0., 0., 0., ..., 0., 0., 0.],\n",
       "       [0., 0., 0., ..., 0., 0., 0.]])"
      ]
     },
     "execution_count": 6,
     "metadata": {},
     "output_type": "execute_result"
    }
   ],
   "source": [
    "X # 70000 obrazków i każdy ma 784 (28 x 28) cechy "
   ]
  },
  {
   "cell_type": "code",
   "execution_count": 7,
   "id": "cd30f245",
   "metadata": {},
   "outputs": [
    {
     "data": {
      "text/plain": [
       "0        5\n",
       "1        0\n",
       "2        4\n",
       "3        1\n",
       "4        9\n",
       "        ..\n",
       "69995    2\n",
       "69996    3\n",
       "69997    4\n",
       "69998    5\n",
       "69999    6\n",
       "Name: class, Length: 70000, dtype: category\n",
       "Categories (10, object): ['0', '1', '2', '3', ..., '6', '7', '8', '9']"
      ]
     },
     "execution_count": 7,
     "metadata": {},
     "output_type": "execute_result"
    }
   ],
   "source": [
    "y"
   ]
  },
  {
   "cell_type": "code",
   "execution_count": 8,
   "id": "2971c087",
   "metadata": {},
   "outputs": [],
   "source": [
    "y = y.astype(int)"
   ]
  },
  {
   "cell_type": "code",
   "execution_count": 9,
   "id": "5f4518d8",
   "metadata": {},
   "outputs": [
    {
     "data": {
      "text/plain": [
       "(70000, 784)"
      ]
     },
     "execution_count": 9,
     "metadata": {},
     "output_type": "execute_result"
    }
   ],
   "source": [
    "X.shape"
   ]
  },
  {
   "cell_type": "code",
   "execution_count": 10,
   "id": "03044214",
   "metadata": {},
   "outputs": [
    {
     "data": {
      "text/plain": [
       "(70000,)"
      ]
     },
     "execution_count": 10,
     "metadata": {},
     "output_type": "execute_result"
    }
   ],
   "source": [
    "y.shape"
   ]
  },
  {
   "cell_type": "code",
   "execution_count": 11,
   "id": "2597daca",
   "metadata": {},
   "outputs": [],
   "source": [
    "some_number = X[69998]"
   ]
  },
  {
   "cell_type": "code",
   "execution_count": 12,
   "id": "9dec35af",
   "metadata": {},
   "outputs": [
    {
     "data": {
      "text/plain": [
       "array([  0.,   0.,   0.,   0.,   0.,   0.,   0.,   0.,   0.,   0.,   0.,\n",
       "         0.,   0.,   0.,   0.,   0.,   0.,   0.,   0.,   0.,   0.,   0.,\n",
       "         0.,   0.,   0.,   0.,   0.,   0.,   0.,   0.,   0.,   0.,   0.,\n",
       "         0.,   0.,   0.,   0.,   0.,   0.,   0.,   0.,   0.,   0.,   0.,\n",
       "         0.,   0.,   0.,   0.,   0.,   0.,   0.,   0.,   0.,   0.,   0.,\n",
       "         0.,   0.,   0.,   0.,   0.,   0.,   0.,   0.,   0.,   0.,   0.,\n",
       "         0.,   0.,   0.,   0.,   0.,   0.,   0.,   0.,   0.,   0.,   0.,\n",
       "         0.,   0.,   0.,   0.,   0.,   0.,   0.,   0.,   0.,   0.,   0.,\n",
       "         0.,   0.,   0.,   0.,   0.,   0.,   0.,   0.,   0.,   0.,   0.,\n",
       "         0.,   0.,   0.,   0.,   0.,   0.,   0.,   0.,   0.,   0.,   0.,\n",
       "         0.,   0.,   0.,   0.,   0.,   0.,   0.,   0.,   0.,   0.,   0.,\n",
       "         0.,   0.,   0.,   0.,   0.,   0.,   0.,   0.,   0.,   0.,   0.,\n",
       "         0.,   0.,   0.,   0.,   0.,   0.,   0.,   0.,   0.,   0.,   0.,\n",
       "         0.,   0.,   0.,   0.,   0.,   0.,   0.,   0.,   0.,   0.,   0.,\n",
       "         0.,   0.,   0.,   0.,   0.,   0.,   0.,   0.,   0.,   0.,   0.,\n",
       "         0.,   0.,   0.,   0.,   0.,   0.,   0.,   0.,   0.,   0.,   0.,\n",
       "         0.,   0.,   0.,   0.,   0.,   0.,   0.,   0.,   0.,   0.,   0.,\n",
       "         0.,   0.,   0.,   0.,   0.,   0.,   0.,   0.,   0.,   0.,   0.,\n",
       "         0.,   0.,   0.,   0.,   0.,   0.,   0.,   0.,   0.,   0.,   0.,\n",
       "         0.,   0.,   0.,   0.,   0.,   0.,   0.,   0.,   0.,   0.,   0.,\n",
       "         0.,   0.,   0.,   0.,   0.,   0.,   0.,   0.,   0.,   0.,   0.,\n",
       "         0.,   0.,   0.,   0.,   0.,   8.,  10.,  78.,   0.,   0.,   0.,\n",
       "         0.,   0.,   0.,   0.,  15., 104., 104., 104.,  69.,   0.,   0.,\n",
       "         0.,   0.,   0.,   0.,   0.,   0.,   0.,   0.,   0.,   0., 123.,\n",
       "       238., 254., 235., 159.,  76., 111.,  76., 115., 169., 169., 238.,\n",
       "       254., 254., 254., 254.,   0.,   0.,   0.,   0.,   0.,   0.,   0.,\n",
       "         0.,   0.,   0.,   0.,  71., 252., 254., 254., 254., 254., 254.,\n",
       "       254., 254., 254., 254., 254., 254., 254., 254., 248., 102.,   0.,\n",
       "         0.,   0.,   0.,   0.,   0.,   0.,   0.,   0.,   0.,   0.,  83.,\n",
       "       254., 254., 254., 254., 254., 247., 236., 221., 179., 235., 182.,\n",
       "       140., 110.,  47.,  42.,   0.,   0.,   0.,   0.,   0.,   0.,   0.,\n",
       "         0.,   0.,   0.,   0.,  39., 229., 254., 254., 194., 169., 124.,\n",
       "        47.,   0.,   0.,   0.,   0.,   0.,   0.,   0.,   0.,   0.,   0.,\n",
       "         0.,   0.,   0.,   0.,   0.,   0.,   0.,   0.,   0.,   0.,  83.,\n",
       "       254., 254., 254., 248., 133.,  51.,   0.,   0.,   0.,   0.,   0.,\n",
       "         0.,   0.,   0.,   0.,   0.,   0.,   0.,   0.,   0.,   0.,   0.,\n",
       "         0.,   0.,   0.,   0.,   0.,   5., 213., 254., 254., 254., 254.,\n",
       "       249.,  91.,   0.,   0.,   0.,   0.,   0.,   0.,   0.,   0.,   0.,\n",
       "         0.,   0.,   0.,   0.,   0.,   0.,   0.,   0.,   0.,   0.,   0.,\n",
       "         0.,  44., 152., 201., 254., 254., 254., 135.,   0.,   0.,   0.,\n",
       "         0.,   0.,   0.,   0.,   0.,   0.,   0.,   0.,   0.,   0.,   0.,\n",
       "         0.,   0.,   0.,   0.,  25., 237., 106.,   0.,   0.,   0.,  32.,\n",
       "       200., 254., 255.,  50.,   0.,   0.,   0.,   0.,   0.,   0.,   0.,\n",
       "         0.,   0.,   0.,   0.,   0.,   0.,   0.,   0.,   0.,   0., 123.,\n",
       "       251., 181.,   0.,   0.,   0.,  13., 156., 254., 254., 126.,   0.,\n",
       "         0.,   0.,   0.,   0.,   0.,   0.,   0.,   0.,   0.,   0.,   0.,\n",
       "         0.,   0.,   0.,   0.,   0., 254., 254.,  56.,   0.,   0.,   0.,\n",
       "        85., 254., 254., 254.,   0.,   0.,   0.,   0.,   0.,   0.,   0.,\n",
       "         0.,   0.,   0.,   0.,   0.,   0.,   0.,   0.,   0.,   0.,   0.,\n",
       "       198., 254., 149.,  54.,   0.,   0.,  60., 251., 254., 254.,  29.,\n",
       "         0.,   0.,   0.,   0.,   0.,   0.,   0.,   0.,   0.,   0.,   0.,\n",
       "         0.,   0.,   0.,   0.,   0.,   0.,  89., 248., 254., 220., 107.,\n",
       "       148., 236., 253., 248., 171.,   7.,   0.,   0.,   0.,   0.,   0.,\n",
       "         0.,   0.,   0.,   0.,   0.,   0.,   0.,   0.,   0.,   0.,   0.,\n",
       "         0.,   0., 139., 249., 254., 254., 254., 254., 249., 173.,   0.,\n",
       "         0.,   0.,   0.,   0.,   0.,   0.,   0.,   0.,   0.,   0.,   0.,\n",
       "         0.,   0.,   0.,   0.,   0.,   0.,   0.,   0.,   0.,  97., 194.,\n",
       "       254., 254., 254., 134.,   0.,   0.,   0.,   0.,   0.,   0.,   0.,\n",
       "         0.,   0.,   0.,   0.,   0.,   0.,   0.,   0.,   0.,   0.,   0.,\n",
       "         0.,   0.,   0.,   0.,   0.,   3.,  97., 103.,  37.,   1.,   0.,\n",
       "         0.,   0.,   0.,   0.,   0.,   0.,   0.,   0.,   0.,   0.,   0.,\n",
       "         0.,   0.,   0.,   0.,   0.,   0.,   0.,   0.,   0.,   0.,   0.,\n",
       "         0.,   0.,   0.,   0.,   0.,   0.,   0.,   0.,   0.,   0.,   0.,\n",
       "         0.,   0.,   0.,   0.,   0.,   0.,   0.,   0.,   0.,   0.,   0.,\n",
       "         0.,   0.,   0.,   0.,   0.,   0.,   0.,   0.,   0.,   0.,   0.,\n",
       "         0.,   0.,   0.,   0.,   0.,   0.,   0.,   0.,   0.,   0.,   0.,\n",
       "         0.,   0.,   0.,   0.,   0.,   0.,   0.,   0.,   0.,   0.,   0.,\n",
       "         0.,   0.,   0.,   0.,   0.,   0.,   0.,   0.,   0.,   0.,   0.,\n",
       "         0.,   0.,   0.,   0.,   0.,   0.,   0.,   0.,   0.,   0.,   0.,\n",
       "         0.,   0.,   0.,   0.,   0.,   0.,   0.,   0.,   0.,   0.,   0.,\n",
       "         0.,   0.,   0.,   0.,   0.,   0.,   0.,   0.,   0.,   0.,   0.,\n",
       "         0.,   0.,   0.])"
      ]
     },
     "execution_count": 12,
     "metadata": {},
     "output_type": "execute_result"
    }
   ],
   "source": [
    "some_number"
   ]
  },
  {
   "cell_type": "code",
   "execution_count": 13,
   "id": "0d0c8615",
   "metadata": {},
   "outputs": [],
   "source": [
    "some_number_image = some_number.reshape(28,28)"
   ]
  },
  {
   "cell_type": "code",
   "execution_count": 14,
   "id": "81648b86",
   "metadata": {},
   "outputs": [
    {
     "data": {
      "text/plain": [
       "<matplotlib.image.AxesImage at 0x125055ee0>"
      ]
     },
     "execution_count": 14,
     "metadata": {},
     "output_type": "execute_result"
    },
    {
     "data": {
      "image/png": "[encoded data removed]",
      "text/plain": [
       "<Figure size 432x288 with 1 Axes>"
      ]
     },
     "metadata": {
      "needs_background": "light"
     },
     "output_type": "display_data"
    }
   ],
   "source": [
    "plt.imshow(some_number_image)"
   ]
  },
  {
   "cell_type": "code",
   "execution_count": 15,
   "id": "0d73fdcd",
   "metadata": {},
   "outputs": [
    {
     "data": {
      "text/plain": [
       "5"
      ]
     },
     "execution_count": 15,
     "metadata": {},
     "output_type": "execute_result"
    }
   ],
   "source": [
    "y[69998]"
   ]
  },
  {
   "cell_type": "code",
   "execution_count": 16,
   "id": "8c9ad6ef",
   "metadata": {},
   "outputs": [],
   "source": [
    "X_train, X_test, y_train, y_test = X[:60000], X[60000:],y[:60000],y[60000:]"
   ]
  },
  {
   "cell_type": "code",
   "execution_count": 17,
   "id": "962be8dd",
   "metadata": {},
   "outputs": [
    {
     "data": {
      "text/plain": [
       "((60000, 784), (60000,))"
      ]
     },
     "execution_count": 17,
     "metadata": {},
     "output_type": "execute_result"
    }
   ],
   "source": [
    "X_train.shape, y_train.shape"
   ]
  },
  {
   "cell_type": "code",
   "execution_count": 18,
   "id": "d9c95666",
   "metadata": {},
   "outputs": [],
   "source": [
    "# tasowanie danych - \n",
    "shuffle_index = np.random.permutation(60000)"
   ]
  },
  {
   "cell_type": "code",
   "execution_count": 19,
   "id": "357ff5fd",
   "metadata": {},
   "outputs": [],
   "source": [
    "X_train, y_train = X_train[shuffle_index], y_train[shuffle_index]"
   ]
  },
  {
   "cell_type": "code",
   "execution_count": 20,
   "id": "73b9903a",
   "metadata": {},
   "outputs": [],
   "source": [
    "# identyfikowanie binarne np 5 ! dwie klasy: jest 5 nie - to nie jest 5 \n",
    "y_train_5 = np.where(y_train==5,1,0)\n",
    "y_test_5 = np.where(y_test==5,1,0)"
   ]
  },
  {
   "cell_type": "code",
   "execution_count": 21,
   "id": "534132b0",
   "metadata": {},
   "outputs": [],
   "source": [
    "# wybierzmy jakiś prosty klasyfikator \n",
    "from sklearn.linear_model import SGDClassifier"
   ]
  },
  {
   "cell_type": "code",
   "execution_count": 22,
   "id": "13d5313e",
   "metadata": {},
   "outputs": [
    {
     "data": {
      "text/plain": [
       "SGDClassifier(random_state=43)"
      ]
     },
     "execution_count": 22,
     "metadata": {},
     "output_type": "execute_result"
    }
   ],
   "source": [
    "sgd = SGDClassifier(random_state=43)\n",
    "sgd.fit(X_train,y_train_5)"
   ]
  },
  {
   "cell_type": "code",
   "execution_count": 23,
   "id": "fd2a2bd0",
   "metadata": {},
   "outputs": [
    {
     "data": {
      "text/plain": [
       "array([1])"
      ]
     },
     "execution_count": 23,
     "metadata": {},
     "output_type": "execute_result"
    }
   ],
   "source": [
    "sgd.predict([some_number])"
   ]
  },
  {
   "cell_type": "code",
   "execution_count": 24,
   "id": "ee7ad2c5",
   "metadata": {},
   "outputs": [
    {
     "data": {
      "text/plain": [
       "array([0.92485, 0.9623 , 0.95815])"
      ]
     },
     "execution_count": 24,
     "metadata": {},
     "output_type": "execute_result"
    }
   ],
   "source": [
    "# ocenimy wydajność - ile % dobrze określił model \n",
    "\n",
    "from sklearn.model_selection import cross_val_score\n",
    "\n",
    "cross_val_score(sgd, X_train, y_train_5, cv=3, scoring='accuracy')"
   ]
  },
  {
   "cell_type": "markdown",
   "id": "e1bdfeb6",
   "metadata": {},
   "source": [
    "### Dokładność powyżej 95% !!! \n",
    "\n",
    "Ale czy to dobrze ? \n",
    "\n",
    "Bądźmy jak na Titanicu - określmy, że wszyscy umarli ! tzn. napiszmy klasyfikator, który zawsze zwróci nie_5"
   ]
  },
  {
   "cell_type": "code",
   "execution_count": 25,
   "id": "2aacbc90",
   "metadata": {},
   "outputs": [],
   "source": [
    "from sklearn.base import BaseEstimator"
   ]
  },
  {
   "cell_type": "code",
   "execution_count": 26,
   "id": "42fcaaae",
   "metadata": {},
   "outputs": [],
   "source": [
    "class Never5Classifier(BaseEstimator):\n",
    "    def fit(self, X, y=None):\n",
    "        pass\n",
    "    def predict(self, X):\n",
    "        return np.zeros((len(X),1))"
   ]
  },
  {
   "cell_type": "markdown",
   "id": "ddefad7a",
   "metadata": {},
   "source": [
    "### Jak myślisz jaka będzie dokładność takiego modelu ? "
   ]
  },
  {
   "cell_type": "code",
   "execution_count": 27,
   "id": "d3b286bd",
   "metadata": {},
   "outputs": [
    {
     "data": {
      "text/plain": [
       "array([0.91095, 0.9106 , 0.9074 ])"
      ]
     },
     "execution_count": 27,
     "metadata": {},
     "output_type": "execute_result"
    }
   ],
   "source": [
    "never_5 = Never5Classifier()\n",
    "cross_val_score(never_5, X_train,y_train_5, cv=3, scoring='accuracy')"
   ]
  },
  {
   "cell_type": "markdown",
   "id": "ab36e06f",
   "metadata": {},
   "source": [
    "### Macierz pomyłek \n",
    "\n",
    "Znacznie lepszym sposobem oceny jakości klasyfikatora jest macierz pomyłek (confusion matrix)\n",
    "\n",
    "W celu obliczenia macierzy wpierw trzeba otrzymać prognozy\n",
    "\n",
    "Rząd reprezentuje rzeczywistą klasę, kolumna przewidywaną klasę. "
   ]
  },
  {
   "cell_type": "code",
   "execution_count": 28,
   "id": "9e8a0cf6",
   "metadata": {},
   "outputs": [],
   "source": [
    "from sklearn.model_selection import cross_val_predict\n",
    "\n",
    "y_train_pred = cross_val_predict(sgd, X_train,y_train_5, cv=3)"
   ]
  },
  {
   "cell_type": "code",
   "execution_count": 29,
   "id": "a35aaf52",
   "metadata": {},
   "outputs": [
    {
     "data": {
      "text/plain": [
       "array([[52583,  1996],\n",
       "       [ 1098,  4323]])"
      ]
     },
     "execution_count": 29,
     "metadata": {},
     "output_type": "execute_result"
    }
   ],
   "source": [
    "from sklearn.metrics import confusion_matrix\n",
    "\n",
    "confusion_matrix(y_train_5, y_train_pred)"
   ]
  },
  {
   "cell_type": "markdown",
   "id": "04815fa3",
   "metadata": {},
   "source": [
    "Prawidłowo sklasyfikowane = 53110 (niebędące piątką Prawdziwe Negatywne)\n",
    "\n",
    "1469 = Fałszywie Pozytywne, \n",
    "\n",
    "877 = Fałszywie Negatywne, oraz \n",
    "\n",
    "4544= Prawdziwie Pozytywne (będące piątkami)   \n",
    "\n",
    "(Wyniki mogą być różne ze względu na funkcję zmieniającą indeksy)\n",
    "\n",
    "$$Precyzja = \\frac{PP}{PP+FP}$$ używana wraz z pełnością\n",
    "$$Pełność= \\frac{PP}{PP+FN}$$\n",
    "\n",
    ", czułością lub odsetkiem pozytywnych"
   ]
  },
  {
   "cell_type": "code",
   "execution_count": 30,
   "id": "3533a717",
   "metadata": {},
   "outputs": [
    {
     "data": {
      "text/plain": [
       "0.6841272353220447"
      ]
     },
     "execution_count": 30,
     "metadata": {},
     "output_type": "execute_result"
    }
   ],
   "source": [
    "from sklearn.metrics import precision_score, recall_score\n",
    "precision_score(y_train_5,y_train_pred)"
   ]
  },
  {
   "cell_type": "code",
   "execution_count": 31,
   "id": "f41c4e81",
   "metadata": {},
   "outputs": [
    {
     "data": {
      "text/plain": [
       "0.7556959920172959"
      ]
     },
     "execution_count": 31,
     "metadata": {},
     "output_type": "execute_result"
    }
   ],
   "source": [
    "4544/(4544+1469) # nie myli się w 75% "
   ]
  },
  {
   "cell_type": "code",
   "execution_count": 32,
   "id": "8fd80bd6",
   "metadata": {},
   "outputs": [
    {
     "data": {
      "text/plain": [
       "0.7974543442169342"
      ]
     },
     "execution_count": 32,
     "metadata": {},
     "output_type": "execute_result"
    }
   ],
   "source": [
    "recall_score(y_train_5,y_train_pred) "
   ]
  },
  {
   "cell_type": "code",
   "execution_count": 33,
   "id": "0fc9e9e0",
   "metadata": {},
   "outputs": [
    {
     "data": {
      "text/plain": [
       "0.8382217303080612"
      ]
     },
     "execution_count": 33,
     "metadata": {},
     "output_type": "execute_result"
    }
   ],
   "source": [
    "4544/(4544+877) # rozpoznaje 83%"
   ]
  },
  {
   "cell_type": "code",
   "execution_count": 34,
   "id": "15d44d9d",
   "metadata": {},
   "outputs": [],
   "source": [
    "DATA_DIR = 'dane'\n",
    "DATA_NAME = 'creditcard.csv'"
   ]
  },
  {
   "cell_type": "code",
   "execution_count": 35,
   "id": "034081d8",
   "metadata": {},
   "outputs": [],
   "source": [
    "def load_csv_data():\n",
    "    csv_path = os.path.join(DATA_DIR,DATA_NAME)\n",
    "    return pd.read_csv(csv_path)"
   ]
  },
  {
   "cell_type": "code",
   "execution_count": 36,
   "id": "a830f2b3",
   "metadata": {},
   "outputs": [],
   "source": [
    "df = load_csv_data()"
   ]
  },
  {
   "cell_type": "code",
   "execution_count": 37,
   "id": "40ad7249",
   "metadata": {},
   "outputs": [
    {
     "data": {
      "text/plain": [
       "0    99778\n",
       "1      223\n",
       "Name: Class, dtype: int64"
      ]
     },
     "execution_count": 37,
     "metadata": {},
     "output_type": "execute_result"
    }
   ],
   "source": [
    "df['Class'].value_counts()"
   ]
  },
  {
   "cell_type": "code",
   "execution_count": 38,
   "id": "2d3d3d41",
   "metadata": {},
   "outputs": [
    {
     "data": {
      "image/png": "[encoded data removed]",
      "text/plain": [
       "<Figure size 432x288 with 1 Axes>"
      ]
     },
     "metadata": {
      "needs_background": "light"
     },
     "output_type": "display_data"
    }
   ],
   "source": [
    "sns.countplot(x='Class',data=df, palette='hls')\n",
    "plt.show()"
   ]
  },
  {
   "cell_type": "code",
   "execution_count": 39,
   "id": "f8a006bb",
   "metadata": {},
   "outputs": [
    {
     "name": "stdout",
     "output_type": "stream",
     "text": [
      "<class 'pandas.core.frame.DataFrame'>\n",
      "RangeIndex: 100001 entries, 0 to 100000\n",
      "Data columns (total 32 columns):\n",
      " #   Column      Non-Null Count   Dtype  \n",
      "---  ------      --------------   -----  \n",
      " 0   Unnamed: 0  100001 non-null  int64  \n",
      " 1   Time        100001 non-null  float64\n",
      " 2   V1          100001 non-null  float64\n",
      " 3   V2          100001 non-null  float64\n",
      " 4   V3          100001 non-null  float64\n",
      " 5   V4          100001 non-null  float64\n",
      " 6   V5          100001 non-null  float64\n",
      " 7   V6          100001 non-null  float64\n",
      " 8   V7          100001 non-null  float64\n",
      " 9   V8          100001 non-null  float64\n",
      " 10  V9          100001 non-null  float64\n",
      " 11  V10         100001 non-null  float64\n",
      " 12  V11         100001 non-null  float64\n",
      " 13  V12         100001 non-null  float64\n",
      " 14  V13         100001 non-null  float64\n",
      " 15  V14         100001 non-null  float64\n",
      " 16  V15         100001 non-null  float64\n",
      " 17  V16         100001 non-null  float64\n",
      " 18  V17         100001 non-null  float64\n",
      " 19  V18         100001 non-null  float64\n",
      " 20  V19         100001 non-null  float64\n",
      " 21  V20         100001 non-null  float64\n",
      " 22  V21         100001 non-null  float64\n",
      " 23  V22         100001 non-null  float64\n",
      " 24  V23         100001 non-null  float64\n",
      " 25  V24         100001 non-null  float64\n",
      " 26  V25         100001 non-null  float64\n",
      " 27  V26         100001 non-null  float64\n",
      " 28  V27         100001 non-null  float64\n",
      " 29  V28         100001 non-null  float64\n",
      " 30  Amount      100001 non-null  float64\n",
      " 31  Class       100001 non-null  int64  \n",
      "dtypes: float64(30), int64(2)\n",
      "memory usage: 24.4 MB\n"
     ]
    }
   ],
   "source": [
    "df.info()"
   ]
  },
  {
   "cell_type": "code",
   "execution_count": 40,
   "id": "b30adfa9",
   "metadata": {},
   "outputs": [
    {
     "data": {
      "text/html": [
       "<div>\n",
       "<style scoped>\n",
       "    .dataframe tbody tr th:only-of-type {\n",
       "        vertical-align: middle;\n",
       "    }\n",
       "\n",
       "    .dataframe tbody tr th {\n",
       "        vertical-align: top;\n",
       "    }\n",
       "\n",
       "    .dataframe thead th {\n",
       "        text-align: right;\n",
       "    }\n",
       "</style>\n",
       "<table border=\"1\" class=\"dataframe\">\n",
       "  <thead>\n",
       "    <tr style=\"text-align: right;\">\n",
       "      <th></th>\n",
       "      <th>Unnamed: 0</th>\n",
       "      <th>Time</th>\n",
       "      <th>V1</th>\n",
       "      <th>V2</th>\n",
       "      <th>V3</th>\n",
       "      <th>V4</th>\n",
       "      <th>V5</th>\n",
       "      <th>V6</th>\n",
       "      <th>V7</th>\n",
       "      <th>V8</th>\n",
       "      <th>V9</th>\n",
       "      <th>V10</th>\n",
       "      <th>V11</th>\n",
       "      <th>V12</th>\n",
       "      <th>V13</th>\n",
       "      <th>V14</th>\n",
       "      <th>V15</th>\n",
       "      <th>V16</th>\n",
       "      <th>V17</th>\n",
       "      <th>V18</th>\n",
       "      <th>V19</th>\n",
       "      <th>V20</th>\n",
       "      <th>V21</th>\n",
       "      <th>V22</th>\n",
       "      <th>V23</th>\n",
       "      <th>V24</th>\n",
       "      <th>V25</th>\n",
       "      <th>V26</th>\n",
       "      <th>V27</th>\n",
       "      <th>V28</th>\n",
       "      <th>Amount</th>\n",
       "      <th>Class</th>\n",
       "    </tr>\n",
       "  </thead>\n",
       "  <tbody>\n",
       "    <tr>\n",
       "      <th>0</th>\n",
       "      <td>0</td>\n",
       "      <td>0.0</td>\n",
       "      <td>-1.359807</td>\n",
       "      <td>-0.072781</td>\n",
       "      <td>2.536347</td>\n",
       "      <td>1.378155</td>\n",
       "      <td>-0.338321</td>\n",
       "      <td>0.462388</td>\n",
       "      <td>0.239599</td>\n",
       "      <td>0.098698</td>\n",
       "      <td>0.363787</td>\n",
       "      <td>0.090794</td>\n",
       "      <td>-0.551600</td>\n",
       "      <td>-0.617801</td>\n",
       "      <td>-0.991390</td>\n",
       "      <td>-0.311169</td>\n",
       "      <td>1.468177</td>\n",
       "      <td>-0.470401</td>\n",
       "      <td>0.207971</td>\n",
       "      <td>0.025791</td>\n",
       "      <td>0.403993</td>\n",
       "      <td>0.251412</td>\n",
       "      <td>-0.018307</td>\n",
       "      <td>0.277838</td>\n",
       "      <td>-0.110474</td>\n",
       "      <td>0.066928</td>\n",
       "      <td>0.128539</td>\n",
       "      <td>-0.189115</td>\n",
       "      <td>0.133558</td>\n",
       "      <td>-0.021053</td>\n",
       "      <td>149.62</td>\n",
       "      <td>0</td>\n",
       "    </tr>\n",
       "    <tr>\n",
       "      <th>1</th>\n",
       "      <td>1</td>\n",
       "      <td>0.0</td>\n",
       "      <td>1.191857</td>\n",
       "      <td>0.266151</td>\n",
       "      <td>0.166480</td>\n",
       "      <td>0.448154</td>\n",
       "      <td>0.060018</td>\n",
       "      <td>-0.082361</td>\n",
       "      <td>-0.078803</td>\n",
       "      <td>0.085102</td>\n",
       "      <td>-0.255425</td>\n",
       "      <td>-0.166974</td>\n",
       "      <td>1.612727</td>\n",
       "      <td>1.065235</td>\n",
       "      <td>0.489095</td>\n",
       "      <td>-0.143772</td>\n",
       "      <td>0.635558</td>\n",
       "      <td>0.463917</td>\n",
       "      <td>-0.114805</td>\n",
       "      <td>-0.183361</td>\n",
       "      <td>-0.145783</td>\n",
       "      <td>-0.069083</td>\n",
       "      <td>-0.225775</td>\n",
       "      <td>-0.638672</td>\n",
       "      <td>0.101288</td>\n",
       "      <td>-0.339846</td>\n",
       "      <td>0.167170</td>\n",
       "      <td>0.125895</td>\n",
       "      <td>-0.008983</td>\n",
       "      <td>0.014724</td>\n",
       "      <td>2.69</td>\n",
       "      <td>0</td>\n",
       "    </tr>\n",
       "    <tr>\n",
       "      <th>2</th>\n",
       "      <td>2</td>\n",
       "      <td>1.0</td>\n",
       "      <td>-1.358354</td>\n",
       "      <td>-1.340163</td>\n",
       "      <td>1.773209</td>\n",
       "      <td>0.379780</td>\n",
       "      <td>-0.503198</td>\n",
       "      <td>1.800499</td>\n",
       "      <td>0.791461</td>\n",
       "      <td>0.247676</td>\n",
       "      <td>-1.514654</td>\n",
       "      <td>0.207643</td>\n",
       "      <td>0.624501</td>\n",
       "      <td>0.066084</td>\n",
       "      <td>0.717293</td>\n",
       "      <td>-0.165946</td>\n",
       "      <td>2.345865</td>\n",
       "      <td>-2.890083</td>\n",
       "      <td>1.109969</td>\n",
       "      <td>-0.121359</td>\n",
       "      <td>-2.261857</td>\n",
       "      <td>0.524980</td>\n",
       "      <td>0.247998</td>\n",
       "      <td>0.771679</td>\n",
       "      <td>0.909412</td>\n",
       "      <td>-0.689281</td>\n",
       "      <td>-0.327642</td>\n",
       "      <td>-0.139097</td>\n",
       "      <td>-0.055353</td>\n",
       "      <td>-0.059752</td>\n",
       "      <td>378.66</td>\n",
       "      <td>0</td>\n",
       "    </tr>\n",
       "    <tr>\n",
       "      <th>3</th>\n",
       "      <td>3</td>\n",
       "      <td>1.0</td>\n",
       "      <td>-0.966272</td>\n",
       "      <td>-0.185226</td>\n",
       "      <td>1.792993</td>\n",
       "      <td>-0.863291</td>\n",
       "      <td>-0.010309</td>\n",
       "      <td>1.247203</td>\n",
       "      <td>0.237609</td>\n",
       "      <td>0.377436</td>\n",
       "      <td>-1.387024</td>\n",
       "      <td>-0.054952</td>\n",
       "      <td>-0.226487</td>\n",
       "      <td>0.178228</td>\n",
       "      <td>0.507757</td>\n",
       "      <td>-0.287924</td>\n",
       "      <td>-0.631418</td>\n",
       "      <td>-1.059647</td>\n",
       "      <td>-0.684093</td>\n",
       "      <td>1.965775</td>\n",
       "      <td>-1.232622</td>\n",
       "      <td>-0.208038</td>\n",
       "      <td>-0.108300</td>\n",
       "      <td>0.005274</td>\n",
       "      <td>-0.190321</td>\n",
       "      <td>-1.175575</td>\n",
       "      <td>0.647376</td>\n",
       "      <td>-0.221929</td>\n",
       "      <td>0.062723</td>\n",
       "      <td>0.061458</td>\n",
       "      <td>123.50</td>\n",
       "      <td>0</td>\n",
       "    </tr>\n",
       "    <tr>\n",
       "      <th>4</th>\n",
       "      <td>4</td>\n",
       "      <td>2.0</td>\n",
       "      <td>-1.158233</td>\n",
       "      <td>0.877737</td>\n",
       "      <td>1.548718</td>\n",
       "      <td>0.403034</td>\n",
       "      <td>-0.407193</td>\n",
       "      <td>0.095921</td>\n",
       "      <td>0.592941</td>\n",
       "      <td>-0.270533</td>\n",
       "      <td>0.817739</td>\n",
       "      <td>0.753074</td>\n",
       "      <td>-0.822843</td>\n",
       "      <td>0.538196</td>\n",
       "      <td>1.345852</td>\n",
       "      <td>-1.119670</td>\n",
       "      <td>0.175121</td>\n",
       "      <td>-0.451449</td>\n",
       "      <td>-0.237033</td>\n",
       "      <td>-0.038195</td>\n",
       "      <td>0.803487</td>\n",
       "      <td>0.408542</td>\n",
       "      <td>-0.009431</td>\n",
       "      <td>0.798278</td>\n",
       "      <td>-0.137458</td>\n",
       "      <td>0.141267</td>\n",
       "      <td>-0.206010</td>\n",
       "      <td>0.502292</td>\n",
       "      <td>0.219422</td>\n",
       "      <td>0.215153</td>\n",
       "      <td>69.99</td>\n",
       "      <td>0</td>\n",
       "    </tr>\n",
       "  </tbody>\n",
       "</table>\n",
       "</div>"
      ],
      "text/plain": [
       "   Unnamed: 0  Time        V1        V2        V3        V4        V5  \\\n",
       "0           0   0.0 -1.359807 -0.072781  2.536347  1.378155 -0.338321   \n",
       "1           1   0.0  1.191857  0.266151  0.166480  0.448154  0.060018   \n",
       "2           2   1.0 -1.358354 -1.340163  1.773209  0.379780 -0.503198   \n",
       "3           3   1.0 -0.966272 -0.185226  1.792993 -0.863291 -0.010309   \n",
       "4           4   2.0 -1.158233  0.877737  1.548718  0.403034 -0.407193   \n",
       "\n",
       "         V6        V7        V8        V9       V10       V11       V12  \\\n",
       "0  0.462388  0.239599  0.098698  0.363787  0.090794 -0.551600 -0.617801   \n",
       "1 -0.082361 -0.078803  0.085102 -0.255425 -0.166974  1.612727  1.065235   \n",
       "2  1.800499  0.791461  0.247676 -1.514654  0.207643  0.624501  0.066084   \n",
       "3  1.247203  0.237609  0.377436 -1.387024 -0.054952 -0.226487  0.178228   \n",
       "4  0.095921  0.592941 -0.270533  0.817739  0.753074 -0.822843  0.538196   \n",
       "\n",
       "        V13       V14       V15       V16       V17       V18       V19  \\\n",
       "0 -0.991390 -0.311169  1.468177 -0.470401  0.207971  0.025791  0.403993   \n",
       "1  0.489095 -0.143772  0.635558  0.463917 -0.114805 -0.183361 -0.145783   \n",
       "2  0.717293 -0.165946  2.345865 -2.890083  1.109969 -0.121359 -2.261857   \n",
       "3  0.507757 -0.287924 -0.631418 -1.059647 -0.684093  1.965775 -1.232622   \n",
       "4  1.345852 -1.119670  0.175121 -0.451449 -0.237033 -0.038195  0.803487   \n",
       "\n",
       "        V20       V21       V22       V23       V24       V25       V26  \\\n",
       "0  0.251412 -0.018307  0.277838 -0.110474  0.066928  0.128539 -0.189115   \n",
       "1 -0.069083 -0.225775 -0.638672  0.101288 -0.339846  0.167170  0.125895   \n",
       "2  0.524980  0.247998  0.771679  0.909412 -0.689281 -0.327642 -0.139097   \n",
       "3 -0.208038 -0.108300  0.005274 -0.190321 -1.175575  0.647376 -0.221929   \n",
       "4  0.408542 -0.009431  0.798278 -0.137458  0.141267 -0.206010  0.502292   \n",
       "\n",
       "        V27       V28  Amount  Class  \n",
       "0  0.133558 -0.021053  149.62      0  \n",
       "1 -0.008983  0.014724    2.69      0  \n",
       "2 -0.055353 -0.059752  378.66      0  \n",
       "3  0.062723  0.061458  123.50      0  \n",
       "4  0.219422  0.215153   69.99      0  "
      ]
     },
     "execution_count": 40,
     "metadata": {},
     "output_type": "execute_result"
    }
   ],
   "source": [
    "df.head()"
   ]
  },
  {
   "cell_type": "code",
   "execution_count": 41,
   "id": "fb53058d",
   "metadata": {},
   "outputs": [
    {
     "data": {
      "text/html": [
       "<div>\n",
       "<style scoped>\n",
       "    .dataframe tbody tr th:only-of-type {\n",
       "        vertical-align: middle;\n",
       "    }\n",
       "\n",
       "    .dataframe tbody tr th {\n",
       "        vertical-align: top;\n",
       "    }\n",
       "\n",
       "    .dataframe thead th {\n",
       "        text-align: right;\n",
       "    }\n",
       "</style>\n",
       "<table border=\"1\" class=\"dataframe\">\n",
       "  <thead>\n",
       "    <tr style=\"text-align: right;\">\n",
       "      <th></th>\n",
       "      <th>Unnamed: 0</th>\n",
       "      <th>Time</th>\n",
       "      <th>V1</th>\n",
       "      <th>V2</th>\n",
       "      <th>V3</th>\n",
       "      <th>V4</th>\n",
       "      <th>V5</th>\n",
       "      <th>V6</th>\n",
       "      <th>V7</th>\n",
       "      <th>V8</th>\n",
       "      <th>V9</th>\n",
       "      <th>V10</th>\n",
       "      <th>V11</th>\n",
       "      <th>V12</th>\n",
       "      <th>V13</th>\n",
       "      <th>V14</th>\n",
       "      <th>V15</th>\n",
       "      <th>V16</th>\n",
       "      <th>V17</th>\n",
       "      <th>V18</th>\n",
       "      <th>V19</th>\n",
       "      <th>V20</th>\n",
       "      <th>V21</th>\n",
       "      <th>V22</th>\n",
       "      <th>V23</th>\n",
       "      <th>V24</th>\n",
       "      <th>V25</th>\n",
       "      <th>V26</th>\n",
       "      <th>V27</th>\n",
       "      <th>V28</th>\n",
       "      <th>Amount</th>\n",
       "      <th>Class</th>\n",
       "    </tr>\n",
       "  </thead>\n",
       "  <tbody>\n",
       "    <tr>\n",
       "      <th>66063</th>\n",
       "      <td>66063</td>\n",
       "      <td>51864.0</td>\n",
       "      <td>-0.607437</td>\n",
       "      <td>1.079169</td>\n",
       "      <td>0.601784</td>\n",
       "      <td>-0.451120</td>\n",
       "      <td>0.860896</td>\n",
       "      <td>0.541607</td>\n",
       "      <td>0.476645</td>\n",
       "      <td>0.320225</td>\n",
       "      <td>-0.327456</td>\n",
       "      <td>-0.068240</td>\n",
       "      <td>0.487771</td>\n",
       "      <td>0.105386</td>\n",
       "      <td>-0.048415</td>\n",
       "      <td>-0.295085</td>\n",
       "      <td>0.595956</td>\n",
       "      <td>0.673676</td>\n",
       "      <td>-0.442282</td>\n",
       "      <td>0.364410</td>\n",
       "      <td>0.316339</td>\n",
       "      <td>0.241227</td>\n",
       "      <td>-0.308446</td>\n",
       "      <td>-0.757426</td>\n",
       "      <td>-0.146081</td>\n",
       "      <td>-1.378292</td>\n",
       "      <td>-0.042997</td>\n",
       "      <td>0.173172</td>\n",
       "      <td>0.369695</td>\n",
       "      <td>0.129796</td>\n",
       "      <td>13.99</td>\n",
       "      <td>0</td>\n",
       "    </tr>\n",
       "    <tr>\n",
       "      <th>11889</th>\n",
       "      <td>11889</td>\n",
       "      <td>20467.0</td>\n",
       "      <td>-0.974395</td>\n",
       "      <td>0.425079</td>\n",
       "      <td>2.339517</td>\n",
       "      <td>-0.531438</td>\n",
       "      <td>1.051416</td>\n",
       "      <td>2.015580</td>\n",
       "      <td>0.078785</td>\n",
       "      <td>0.492245</td>\n",
       "      <td>2.087510</td>\n",
       "      <td>-1.375991</td>\n",
       "      <td>0.246330</td>\n",
       "      <td>-2.496814</td>\n",
       "      <td>0.820541</td>\n",
       "      <td>0.841865</td>\n",
       "      <td>-0.589497</td>\n",
       "      <td>-0.579014</td>\n",
       "      <td>0.771575</td>\n",
       "      <td>-1.538501</td>\n",
       "      <td>-3.310400</td>\n",
       "      <td>-0.464490</td>\n",
       "      <td>-0.081201</td>\n",
       "      <td>0.362281</td>\n",
       "      <td>-0.151474</td>\n",
       "      <td>-1.603282</td>\n",
       "      <td>-0.350542</td>\n",
       "      <td>-0.671423</td>\n",
       "      <td>-0.110405</td>\n",
       "      <td>-0.119405</td>\n",
       "      <td>9.99</td>\n",
       "      <td>0</td>\n",
       "    </tr>\n",
       "    <tr>\n",
       "      <th>44319</th>\n",
       "      <td>44319</td>\n",
       "      <td>41891.0</td>\n",
       "      <td>1.208487</td>\n",
       "      <td>-0.661466</td>\n",
       "      <td>-0.355504</td>\n",
       "      <td>-1.550452</td>\n",
       "      <td>-0.611347</td>\n",
       "      <td>-1.086109</td>\n",
       "      <td>0.184491</td>\n",
       "      <td>-0.369215</td>\n",
       "      <td>-0.408208</td>\n",
       "      <td>-0.242110</td>\n",
       "      <td>0.106109</td>\n",
       "      <td>1.007866</td>\n",
       "      <td>1.204786</td>\n",
       "      <td>0.323816</td>\n",
       "      <td>1.368470</td>\n",
       "      <td>-2.629605</td>\n",
       "      <td>0.406567</td>\n",
       "      <td>0.253842</td>\n",
       "      <td>-0.351270</td>\n",
       "      <td>-0.305709</td>\n",
       "      <td>-0.578519</td>\n",
       "      <td>-1.255594</td>\n",
       "      <td>0.056953</td>\n",
       "      <td>0.044442</td>\n",
       "      <td>0.436264</td>\n",
       "      <td>-0.918448</td>\n",
       "      <td>0.053379</td>\n",
       "      <td>0.038513</td>\n",
       "      <td>101.40</td>\n",
       "      <td>0</td>\n",
       "    </tr>\n",
       "    <tr>\n",
       "      <th>77372</th>\n",
       "      <td>77372</td>\n",
       "      <td>57019.0</td>\n",
       "      <td>1.170775</td>\n",
       "      <td>0.258305</td>\n",
       "      <td>0.238183</td>\n",
       "      <td>1.026308</td>\n",
       "      <td>-0.069653</td>\n",
       "      <td>-0.564826</td>\n",
       "      <td>0.257246</td>\n",
       "      <td>-0.245978</td>\n",
       "      <td>-0.119119</td>\n",
       "      <td>-0.065198</td>\n",
       "      <td>-0.583151</td>\n",
       "      <td>0.771853</td>\n",
       "      <td>1.473746</td>\n",
       "      <td>0.046518</td>\n",
       "      <td>0.916842</td>\n",
       "      <td>0.262299</td>\n",
       "      <td>-0.731186</td>\n",
       "      <td>-0.158347</td>\n",
       "      <td>-0.210249</td>\n",
       "      <td>0.065311</td>\n",
       "      <td>-0.040510</td>\n",
       "      <td>-0.136166</td>\n",
       "      <td>-0.142307</td>\n",
       "      <td>-0.094233</td>\n",
       "      <td>0.634927</td>\n",
       "      <td>-0.417378</td>\n",
       "      <td>0.020994</td>\n",
       "      <td>0.032220</td>\n",
       "      <td>54.99</td>\n",
       "      <td>0</td>\n",
       "    </tr>\n",
       "    <tr>\n",
       "      <th>47205</th>\n",
       "      <td>47205</td>\n",
       "      <td>43132.0</td>\n",
       "      <td>1.264926</td>\n",
       "      <td>-0.804998</td>\n",
       "      <td>0.415954</td>\n",
       "      <td>-0.392719</td>\n",
       "      <td>-1.225063</td>\n",
       "      <td>-0.808719</td>\n",
       "      <td>-0.504353</td>\n",
       "      <td>-0.151034</td>\n",
       "      <td>-0.359487</td>\n",
       "      <td>0.477927</td>\n",
       "      <td>-0.694957</td>\n",
       "      <td>-0.652783</td>\n",
       "      <td>-0.550926</td>\n",
       "      <td>-0.331845</td>\n",
       "      <td>-0.414275</td>\n",
       "      <td>0.613535</td>\n",
       "      <td>0.716629</td>\n",
       "      <td>-1.681588</td>\n",
       "      <td>0.921966</td>\n",
       "      <td>0.142130</td>\n",
       "      <td>0.011811</td>\n",
       "      <td>-0.053353</td>\n",
       "      <td>-0.083775</td>\n",
       "      <td>0.411988</td>\n",
       "      <td>0.512739</td>\n",
       "      <td>-0.249772</td>\n",
       "      <td>-0.002644</td>\n",
       "      <td>0.023585</td>\n",
       "      <td>76.23</td>\n",
       "      <td>0</td>\n",
       "    </tr>\n",
       "  </tbody>\n",
       "</table>\n",
       "</div>"
      ],
      "text/plain": [
       "       Unnamed: 0     Time        V1        V2        V3        V4        V5  \\\n",
       "66063       66063  51864.0 -0.607437  1.079169  0.601784 -0.451120  0.860896   \n",
       "11889       11889  20467.0 -0.974395  0.425079  2.339517 -0.531438  1.051416   \n",
       "44319       44319  41891.0  1.208487 -0.661466 -0.355504 -1.550452 -0.611347   \n",
       "77372       77372  57019.0  1.170775  0.258305  0.238183  1.026308 -0.069653   \n",
       "47205       47205  43132.0  1.264926 -0.804998  0.415954 -0.392719 -1.225063   \n",
       "\n",
       "             V6        V7        V8        V9       V10       V11       V12  \\\n",
       "66063  0.541607  0.476645  0.320225 -0.327456 -0.068240  0.487771  0.105386   \n",
       "11889  2.015580  0.078785  0.492245  2.087510 -1.375991  0.246330 -2.496814   \n",
       "44319 -1.086109  0.184491 -0.369215 -0.408208 -0.242110  0.106109  1.007866   \n",
       "77372 -0.564826  0.257246 -0.245978 -0.119119 -0.065198 -0.583151  0.771853   \n",
       "47205 -0.808719 -0.504353 -0.151034 -0.359487  0.477927 -0.694957 -0.652783   \n",
       "\n",
       "            V13       V14       V15       V16       V17       V18       V19  \\\n",
       "66063 -0.048415 -0.295085  0.595956  0.673676 -0.442282  0.364410  0.316339   \n",
       "11889  0.820541  0.841865 -0.589497 -0.579014  0.771575 -1.538501 -3.310400   \n",
       "44319  1.204786  0.323816  1.368470 -2.629605  0.406567  0.253842 -0.351270   \n",
       "77372  1.473746  0.046518  0.916842  0.262299 -0.731186 -0.158347 -0.210249   \n",
       "47205 -0.550926 -0.331845 -0.414275  0.613535  0.716629 -1.681588  0.921966   \n",
       "\n",
       "            V20       V21       V22       V23       V24       V25       V26  \\\n",
       "66063  0.241227 -0.308446 -0.757426 -0.146081 -1.378292 -0.042997  0.173172   \n",
       "11889 -0.464490 -0.081201  0.362281 -0.151474 -1.603282 -0.350542 -0.671423   \n",
       "44319 -0.305709 -0.578519 -1.255594  0.056953  0.044442  0.436264 -0.918448   \n",
       "77372  0.065311 -0.040510 -0.136166 -0.142307 -0.094233  0.634927 -0.417378   \n",
       "47205  0.142130  0.011811 -0.053353 -0.083775  0.411988  0.512739 -0.249772   \n",
       "\n",
       "            V27       V28  Amount  Class  \n",
       "66063  0.369695  0.129796   13.99      0  \n",
       "11889 -0.110405 -0.119405    9.99      0  \n",
       "44319  0.053379  0.038513  101.40      0  \n",
       "77372  0.020994  0.032220   54.99      0  \n",
       "47205 -0.002644  0.023585   76.23      0  "
      ]
     },
     "execution_count": 41,
     "metadata": {},
     "output_type": "execute_result"
    }
   ],
   "source": [
    "df.sample(5)"
   ]
  },
  {
   "cell_type": "code",
   "execution_count": 42,
   "id": "df2a1678",
   "metadata": {},
   "outputs": [],
   "source": [
    "target = df['Class']\n",
    "\n",
    "df2 = df.copy()\n",
    "df2 = df2.drop(columns=['Time'])\n",
    "df3 = df2.drop(columns=['Class','Unnamed: 0'])"
   ]
  },
  {
   "cell_type": "code",
   "execution_count": 43,
   "id": "4c36497f",
   "metadata": {},
   "outputs": [
    {
     "data": {
      "text/html": [
       "<div>\n",
       "<style scoped>\n",
       "    .dataframe tbody tr th:only-of-type {\n",
       "        vertical-align: middle;\n",
       "    }\n",
       "\n",
       "    .dataframe tbody tr th {\n",
       "        vertical-align: top;\n",
       "    }\n",
       "\n",
       "    .dataframe thead th {\n",
       "        text-align: right;\n",
       "    }\n",
       "</style>\n",
       "<table border=\"1\" class=\"dataframe\">\n",
       "  <thead>\n",
       "    <tr style=\"text-align: right;\">\n",
       "      <th></th>\n",
       "      <th>V1</th>\n",
       "      <th>V2</th>\n",
       "      <th>V3</th>\n",
       "      <th>V4</th>\n",
       "      <th>V5</th>\n",
       "      <th>V6</th>\n",
       "      <th>V7</th>\n",
       "      <th>V8</th>\n",
       "      <th>V9</th>\n",
       "      <th>V10</th>\n",
       "      <th>V11</th>\n",
       "      <th>V12</th>\n",
       "      <th>V13</th>\n",
       "      <th>V14</th>\n",
       "      <th>V15</th>\n",
       "      <th>V16</th>\n",
       "      <th>V17</th>\n",
       "      <th>V18</th>\n",
       "      <th>V19</th>\n",
       "      <th>V20</th>\n",
       "      <th>V21</th>\n",
       "      <th>V22</th>\n",
       "      <th>V23</th>\n",
       "      <th>V24</th>\n",
       "      <th>V25</th>\n",
       "      <th>V26</th>\n",
       "      <th>V27</th>\n",
       "      <th>V28</th>\n",
       "      <th>Amount</th>\n",
       "    </tr>\n",
       "  </thead>\n",
       "  <tbody>\n",
       "    <tr>\n",
       "      <th>count</th>\n",
       "      <td>100001.000000</td>\n",
       "      <td>100001.000000</td>\n",
       "      <td>100001.000000</td>\n",
       "      <td>100001.000000</td>\n",
       "      <td>100001.000000</td>\n",
       "      <td>100001.000000</td>\n",
       "      <td>100001.000000</td>\n",
       "      <td>100001.000000</td>\n",
       "      <td>100001.000000</td>\n",
       "      <td>100001.000000</td>\n",
       "      <td>100001.000000</td>\n",
       "      <td>100001.000000</td>\n",
       "      <td>100001.000000</td>\n",
       "      <td>100001.000000</td>\n",
       "      <td>100001.000000</td>\n",
       "      <td>100001.000000</td>\n",
       "      <td>100001.000000</td>\n",
       "      <td>100001.000000</td>\n",
       "      <td>100001.000000</td>\n",
       "      <td>100001.000000</td>\n",
       "      <td>100001.000000</td>\n",
       "      <td>100001.000000</td>\n",
       "      <td>100001.000000</td>\n",
       "      <td>100001.000000</td>\n",
       "      <td>100001.000000</td>\n",
       "      <td>100001.000000</td>\n",
       "      <td>100001.000000</td>\n",
       "      <td>100001.000000</td>\n",
       "      <td>100001.000000</td>\n",
       "    </tr>\n",
       "    <tr>\n",
       "      <th>mean</th>\n",
       "      <td>-0.262182</td>\n",
       "      <td>-0.032294</td>\n",
       "      <td>0.676205</td>\n",
       "      <td>0.162566</td>\n",
       "      <td>-0.278488</td>\n",
       "      <td>0.094099</td>\n",
       "      <td>-0.108711</td>\n",
       "      <td>0.056020</td>\n",
       "      <td>-0.046474</td>\n",
       "      <td>-0.023088</td>\n",
       "      <td>0.250237</td>\n",
       "      <td>-0.066028</td>\n",
       "      <td>0.007593</td>\n",
       "      <td>0.059912</td>\n",
       "      <td>0.192995</td>\n",
       "      <td>-0.007712</td>\n",
       "      <td>0.058048</td>\n",
       "      <td>-0.092294</td>\n",
       "      <td>-0.021986</td>\n",
       "      <td>0.044609</td>\n",
       "      <td>-0.030861</td>\n",
       "      <td>-0.109102</td>\n",
       "      <td>-0.037023</td>\n",
       "      <td>0.008978</td>\n",
       "      <td>0.132205</td>\n",
       "      <td>0.026659</td>\n",
       "      <td>0.000628</td>\n",
       "      <td>0.001738</td>\n",
       "      <td>97.960297</td>\n",
       "    </tr>\n",
       "    <tr>\n",
       "      <th>std</th>\n",
       "      <td>1.859217</td>\n",
       "      <td>1.656978</td>\n",
       "      <td>1.322925</td>\n",
       "      <td>1.349263</td>\n",
       "      <td>1.356392</td>\n",
       "      <td>1.301385</td>\n",
       "      <td>1.210913</td>\n",
       "      <td>1.207520</td>\n",
       "      <td>1.121390</td>\n",
       "      <td>1.070855</td>\n",
       "      <td>1.067023</td>\n",
       "      <td>1.112746</td>\n",
       "      <td>1.037955</td>\n",
       "      <td>0.965546</td>\n",
       "      <td>0.929697</td>\n",
       "      <td>0.898753</td>\n",
       "      <td>0.942828</td>\n",
       "      <td>0.846054</td>\n",
       "      <td>0.817317</td>\n",
       "      <td>0.759536</td>\n",
       "      <td>0.718888</td>\n",
       "      <td>0.634314</td>\n",
       "      <td>0.632905</td>\n",
       "      <td>0.595271</td>\n",
       "      <td>0.441078</td>\n",
       "      <td>0.494537</td>\n",
       "      <td>0.393742</td>\n",
       "      <td>0.325161</td>\n",
       "      <td>264.621869</td>\n",
       "    </tr>\n",
       "    <tr>\n",
       "      <th>min</th>\n",
       "      <td>-56.407510</td>\n",
       "      <td>-72.715728</td>\n",
       "      <td>-33.680984</td>\n",
       "      <td>-5.172595</td>\n",
       "      <td>-42.147898</td>\n",
       "      <td>-26.160506</td>\n",
       "      <td>-31.764946</td>\n",
       "      <td>-73.216718</td>\n",
       "      <td>-9.283925</td>\n",
       "      <td>-18.271168</td>\n",
       "      <td>-4.049895</td>\n",
       "      <td>-17.769143</td>\n",
       "      <td>-5.791881</td>\n",
       "      <td>-19.214325</td>\n",
       "      <td>-4.152532</td>\n",
       "      <td>-13.563273</td>\n",
       "      <td>-25.162799</td>\n",
       "      <td>-9.498746</td>\n",
       "      <td>-7.213527</td>\n",
       "      <td>-21.024817</td>\n",
       "      <td>-34.830382</td>\n",
       "      <td>-10.933144</td>\n",
       "      <td>-44.807735</td>\n",
       "      <td>-2.836627</td>\n",
       "      <td>-10.295397</td>\n",
       "      <td>-2.534330</td>\n",
       "      <td>-9.390980</td>\n",
       "      <td>-9.617915</td>\n",
       "      <td>0.000000</td>\n",
       "    </tr>\n",
       "    <tr>\n",
       "      <th>25%</th>\n",
       "      <td>-1.028110</td>\n",
       "      <td>-0.598683</td>\n",
       "      <td>0.176739</td>\n",
       "      <td>-0.711504</td>\n",
       "      <td>-0.898663</td>\n",
       "      <td>-0.647789</td>\n",
       "      <td>-0.600200</td>\n",
       "      <td>-0.137454</td>\n",
       "      <td>-0.698812</td>\n",
       "      <td>-0.496338</td>\n",
       "      <td>-0.524066</td>\n",
       "      <td>-0.482951</td>\n",
       "      <td>-0.678242</td>\n",
       "      <td>-0.332673</td>\n",
       "      <td>-0.358108</td>\n",
       "      <td>-0.481345</td>\n",
       "      <td>-0.401051</td>\n",
       "      <td>-0.561829</td>\n",
       "      <td>-0.516034</td>\n",
       "      <td>-0.169245</td>\n",
       "      <td>-0.224510</td>\n",
       "      <td>-0.531336</td>\n",
       "      <td>-0.176415</td>\n",
       "      <td>-0.323713</td>\n",
       "      <td>-0.131782</td>\n",
       "      <td>-0.325102</td>\n",
       "      <td>-0.062533</td>\n",
       "      <td>-0.005355</td>\n",
       "      <td>7.570000</td>\n",
       "    </tr>\n",
       "    <tr>\n",
       "      <th>50%</th>\n",
       "      <td>-0.260559</td>\n",
       "      <td>0.078317</td>\n",
       "      <td>0.753962</td>\n",
       "      <td>0.192532</td>\n",
       "      <td>-0.314370</td>\n",
       "      <td>-0.157006</td>\n",
       "      <td>-0.069107</td>\n",
       "      <td>0.074142</td>\n",
       "      <td>-0.119105</td>\n",
       "      <td>-0.094912</td>\n",
       "      <td>0.180619</td>\n",
       "      <td>0.113271</td>\n",
       "      <td>-0.007854</td>\n",
       "      <td>0.077858</td>\n",
       "      <td>0.299874</td>\n",
       "      <td>0.066700</td>\n",
       "      <td>-0.001101</td>\n",
       "      <td>-0.086530</td>\n",
       "      <td>-0.026019</td>\n",
       "      <td>-0.024568</td>\n",
       "      <td>-0.057669</td>\n",
       "      <td>-0.083875</td>\n",
       "      <td>-0.049237</td>\n",
       "      <td>0.064999</td>\n",
       "      <td>0.170104</td>\n",
       "      <td>-0.070320</td>\n",
       "      <td>0.009834</td>\n",
       "      <td>0.023318</td>\n",
       "      <td>26.310000</td>\n",
       "    </tr>\n",
       "    <tr>\n",
       "      <th>75%</th>\n",
       "      <td>1.153321</td>\n",
       "      <td>0.735885</td>\n",
       "      <td>1.376306</td>\n",
       "      <td>1.032416</td>\n",
       "      <td>0.249744</td>\n",
       "      <td>0.486361</td>\n",
       "      <td>0.414657</td>\n",
       "      <td>0.360521</td>\n",
       "      <td>0.558309</td>\n",
       "      <td>0.439030</td>\n",
       "      <td>1.065090</td>\n",
       "      <td>0.623731</td>\n",
       "      <td>0.684385</td>\n",
       "      <td>0.491215</td>\n",
       "      <td>0.864868</td>\n",
       "      <td>0.537354</td>\n",
       "      <td>0.455840</td>\n",
       "      <td>0.388227</td>\n",
       "      <td>0.480136</td>\n",
       "      <td>0.170600</td>\n",
       "      <td>0.119198</td>\n",
       "      <td>0.308337</td>\n",
       "      <td>0.081523</td>\n",
       "      <td>0.406282</td>\n",
       "      <td>0.419920</td>\n",
       "      <td>0.300666</td>\n",
       "      <td>0.083028</td>\n",
       "      <td>0.076573</td>\n",
       "      <td>89.000000</td>\n",
       "    </tr>\n",
       "    <tr>\n",
       "      <th>max</th>\n",
       "      <td>1.960497</td>\n",
       "      <td>18.902453</td>\n",
       "      <td>4.226108</td>\n",
       "      <td>16.715537</td>\n",
       "      <td>34.801666</td>\n",
       "      <td>22.529298</td>\n",
       "      <td>36.677268</td>\n",
       "      <td>20.007208</td>\n",
       "      <td>10.392889</td>\n",
       "      <td>13.249433</td>\n",
       "      <td>12.018913</td>\n",
       "      <td>7.848392</td>\n",
       "      <td>4.465413</td>\n",
       "      <td>10.526766</td>\n",
       "      <td>5.784514</td>\n",
       "      <td>6.098529</td>\n",
       "      <td>9.253526</td>\n",
       "      <td>5.041069</td>\n",
       "      <td>5.228342</td>\n",
       "      <td>39.420904</td>\n",
       "      <td>22.614889</td>\n",
       "      <td>10.503090</td>\n",
       "      <td>19.002942</td>\n",
       "      <td>4.014444</td>\n",
       "      <td>5.541598</td>\n",
       "      <td>3.517346</td>\n",
       "      <td>12.152401</td>\n",
       "      <td>33.847808</td>\n",
       "      <td>19656.530000</td>\n",
       "    </tr>\n",
       "  </tbody>\n",
       "</table>\n",
       "</div>"
      ],
      "text/plain": [
       "                  V1             V2             V3             V4  \\\n",
       "count  100001.000000  100001.000000  100001.000000  100001.000000   \n",
       "mean       -0.262182      -0.032294       0.676205       0.162566   \n",
       "std         1.859217       1.656978       1.322925       1.349263   \n",
       "min       -56.407510     -72.715728     -33.680984      -5.172595   \n",
       "25%        -1.028110      -0.598683       0.176739      -0.711504   \n",
       "50%        -0.260559       0.078317       0.753962       0.192532   \n",
       "75%         1.153321       0.735885       1.376306       1.032416   \n",
       "max         1.960497      18.902453       4.226108      16.715537   \n",
       "\n",
       "                  V5             V6             V7             V8  \\\n",
       "count  100001.000000  100001.000000  100001.000000  100001.000000   \n",
       "mean       -0.278488       0.094099      -0.108711       0.056020   \n",
       "std         1.356392       1.301385       1.210913       1.207520   \n",
       "min       -42.147898     -26.160506     -31.764946     -73.216718   \n",
       "25%        -0.898663      -0.647789      -0.600200      -0.137454   \n",
       "50%        -0.314370      -0.157006      -0.069107       0.074142   \n",
       "75%         0.249744       0.486361       0.414657       0.360521   \n",
       "max        34.801666      22.529298      36.677268      20.007208   \n",
       "\n",
       "                  V9            V10            V11            V12  \\\n",
       "count  100001.000000  100001.000000  100001.000000  100001.000000   \n",
       "mean       -0.046474      -0.023088       0.250237      -0.066028   \n",
       "std         1.121390       1.070855       1.067023       1.112746   \n",
       "min        -9.283925     -18.271168      -4.049895     -17.769143   \n",
       "25%        -0.698812      -0.496338      -0.524066      -0.482951   \n",
       "50%        -0.119105      -0.094912       0.180619       0.113271   \n",
       "75%         0.558309       0.439030       1.065090       0.623731   \n",
       "max        10.392889      13.249433      12.018913       7.848392   \n",
       "\n",
       "                 V13            V14            V15            V16  \\\n",
       "count  100001.000000  100001.000000  100001.000000  100001.000000   \n",
       "mean        0.007593       0.059912       0.192995      -0.007712   \n",
       "std         1.037955       0.965546       0.929697       0.898753   \n",
       "min        -5.791881     -19.214325      -4.152532     -13.563273   \n",
       "25%        -0.678242      -0.332673      -0.358108      -0.481345   \n",
       "50%        -0.007854       0.077858       0.299874       0.066700   \n",
       "75%         0.684385       0.491215       0.864868       0.537354   \n",
       "max         4.465413      10.526766       5.784514       6.098529   \n",
       "\n",
       "                 V17            V18            V19            V20  \\\n",
       "count  100001.000000  100001.000000  100001.000000  100001.000000   \n",
       "mean        0.058048      -0.092294      -0.021986       0.044609   \n",
       "std         0.942828       0.846054       0.817317       0.759536   \n",
       "min       -25.162799      -9.498746      -7.213527     -21.024817   \n",
       "25%        -0.401051      -0.561829      -0.516034      -0.169245   \n",
       "50%        -0.001101      -0.086530      -0.026019      -0.024568   \n",
       "75%         0.455840       0.388227       0.480136       0.170600   \n",
       "max         9.253526       5.041069       5.228342      39.420904   \n",
       "\n",
       "                 V21            V22            V23            V24  \\\n",
       "count  100001.000000  100001.000000  100001.000000  100001.000000   \n",
       "mean       -0.030861      -0.109102      -0.037023       0.008978   \n",
       "std         0.718888       0.634314       0.632905       0.595271   \n",
       "min       -34.830382     -10.933144     -44.807735      -2.836627   \n",
       "25%        -0.224510      -0.531336      -0.176415      -0.323713   \n",
       "50%        -0.057669      -0.083875      -0.049237       0.064999   \n",
       "75%         0.119198       0.308337       0.081523       0.406282   \n",
       "max        22.614889      10.503090      19.002942       4.014444   \n",
       "\n",
       "                 V25            V26            V27            V28  \\\n",
       "count  100001.000000  100001.000000  100001.000000  100001.000000   \n",
       "mean        0.132205       0.026659       0.000628       0.001738   \n",
       "std         0.441078       0.494537       0.393742       0.325161   \n",
       "min       -10.295397      -2.534330      -9.390980      -9.617915   \n",
       "25%        -0.131782      -0.325102      -0.062533      -0.005355   \n",
       "50%         0.170104      -0.070320       0.009834       0.023318   \n",
       "75%         0.419920       0.300666       0.083028       0.076573   \n",
       "max         5.541598       3.517346      12.152401      33.847808   \n",
       "\n",
       "              Amount  \n",
       "count  100001.000000  \n",
       "mean       97.960297  \n",
       "std       264.621869  \n",
       "min         0.000000  \n",
       "25%         7.570000  \n",
       "50%        26.310000  \n",
       "75%        89.000000  \n",
       "max     19656.530000  "
      ]
     },
     "execution_count": 43,
     "metadata": {},
     "output_type": "execute_result"
    }
   ],
   "source": [
    "df3.describe()"
   ]
  },
  {
   "cell_type": "code",
   "execution_count": 44,
   "id": "54514223",
   "metadata": {},
   "outputs": [
    {
     "name": "stdout",
     "output_type": "stream",
     "text": [
      "<class 'pandas.core.frame.DataFrame'>\n",
      "RangeIndex: 100001 entries, 0 to 100000\n",
      "Data columns (total 29 columns):\n",
      " #   Column  Non-Null Count   Dtype  \n",
      "---  ------  --------------   -----  \n",
      " 0   V1      100001 non-null  float64\n",
      " 1   V2      100001 non-null  float64\n",
      " 2   V3      100001 non-null  float64\n",
      " 3   V4      100001 non-null  float64\n",
      " 4   V5      100001 non-null  float64\n",
      " 5   V6      100001 non-null  float64\n",
      " 6   V7      100001 non-null  float64\n",
      " 7   V8      100001 non-null  float64\n",
      " 8   V9      100001 non-null  float64\n",
      " 9   V10     100001 non-null  float64\n",
      " 10  V11     100001 non-null  float64\n",
      " 11  V12     100001 non-null  float64\n",
      " 12  V13     100001 non-null  float64\n",
      " 13  V14     100001 non-null  float64\n",
      " 14  V15     100001 non-null  float64\n",
      " 15  V16     100001 non-null  float64\n",
      " 16  V17     100001 non-null  float64\n",
      " 17  V18     100001 non-null  float64\n",
      " 18  V19     100001 non-null  float64\n",
      " 19  V20     100001 non-null  float64\n",
      " 20  V21     100001 non-null  float64\n",
      " 21  V22     100001 non-null  float64\n",
      " 22  V23     100001 non-null  float64\n",
      " 23  V24     100001 non-null  float64\n",
      " 24  V25     100001 non-null  float64\n",
      " 25  V26     100001 non-null  float64\n",
      " 26  V27     100001 non-null  float64\n",
      " 27  V28     100001 non-null  float64\n",
      " 28  Amount  100001 non-null  float64\n",
      "dtypes: float64(29)\n",
      "memory usage: 22.1 MB\n"
     ]
    }
   ],
   "source": [
    "df3.info()"
   ]
  },
  {
   "cell_type": "code",
   "execution_count": 45,
   "id": "f254098d",
   "metadata": {},
   "outputs": [
    {
     "data": {
      "text/plain": [
       "float64    29\n",
       "int64       2\n",
       "dtype: int64"
      ]
     },
     "execution_count": 45,
     "metadata": {},
     "output_type": "execute_result"
    }
   ],
   "source": [
    "df2.dtypes.value_counts()"
   ]
  },
  {
   "cell_type": "code",
   "execution_count": 46,
   "id": "f26364cd",
   "metadata": {},
   "outputs": [
    {
     "data": {
      "text/plain": [
       "False"
      ]
     },
     "execution_count": 46,
     "metadata": {},
     "output_type": "execute_result"
    }
   ],
   "source": [
    "df2.isnull().any().any()"
   ]
  },
  {
   "cell_type": "code",
   "execution_count": 47,
   "id": "c8ac90d2",
   "metadata": {},
   "outputs": [
    {
     "data": {
      "image/png": "[encoded data removed]",
      "text/plain": [
       "<Figure size 1440x1080 with 36 Axes>"
      ]
     },
     "metadata": {
      "needs_background": "light"
     },
     "output_type": "display_data"
    }
   ],
   "source": [
    "df2.hist(bins=50,figsize=(20,15))\n",
    "plt.show()"
   ]
  },
  {
   "cell_type": "code",
   "execution_count": 48,
   "id": "2d37846b",
   "metadata": {},
   "outputs": [
    {
     "data": {
      "text/plain": [
       "<AxesSubplot:>"
      ]
     },
     "execution_count": 48,
     "metadata": {},
     "output_type": "execute_result"
    },
    {
     "data": {
      "image/png": "[encoded data removed]",
      "text/plain": [
       "<Figure size 576x432 with 1 Axes>"
      ]
     },
     "metadata": {
      "needs_background": "light"
     },
     "output_type": "display_data"
    }
   ],
   "source": [
    "### EDA\n",
    "\n",
    "df['Amount'].hist(bins=50,figsize=(8,6))"
   ]
  },
  {
   "cell_type": "code",
   "execution_count": 49,
   "id": "5d79ea98",
   "metadata": {},
   "outputs": [
    {
     "data": {
      "text/plain": [
       "<AxesSubplot:>"
      ]
     },
     "execution_count": 49,
     "metadata": {},
     "output_type": "execute_result"
    },
    {
     "data": {
      "image/png": "[encoded data removed]",
      "text/plain": [
       "<Figure size 576x432 with 1 Axes>"
      ]
     },
     "metadata": {
      "needs_background": "light"
     },
     "output_type": "display_data"
    }
   ],
   "source": [
    "df[df['Class']==1]['Amount'].hist(bins=50,figsize=(8,6))"
   ]
  },
  {
   "cell_type": "code",
   "execution_count": 50,
   "id": "9d6a6254",
   "metadata": {},
   "outputs": [],
   "source": [
    "corr_matrix = df2.corr()"
   ]
  },
  {
   "cell_type": "code",
   "execution_count": 51,
   "id": "d1b48801",
   "metadata": {},
   "outputs": [
    {
     "data": {
      "text/plain": [
       "Class         1.000000\n",
       "V11           0.185601\n",
       "V4            0.166203\n",
       "V2            0.118394\n",
       "V8            0.104108\n",
       "V27           0.062664\n",
       "V21           0.049098\n",
       "V19           0.047277\n",
       "V20           0.019040\n",
       "V25           0.007828\n",
       "V26           0.007666\n",
       "V28           0.005399\n",
       "Amount        0.003253\n",
       "V15           0.002281\n",
       "V13          -0.000782\n",
       "V22          -0.001041\n",
       "V24          -0.009129\n",
       "Unnamed: 0   -0.015521\n",
       "V23          -0.016656\n",
       "V6           -0.068307\n",
       "V9           -0.119891\n",
       "V5           -0.142983\n",
       "V1           -0.146549\n",
       "V18          -0.160144\n",
       "V7           -0.240844\n",
       "V16          -0.252847\n",
       "V10          -0.270631\n",
       "V12          -0.296582\n",
       "V3           -0.306701\n",
       "V14          -0.373653\n",
       "V17          -0.413776\n",
       "Name: Class, dtype: float64"
      ]
     },
     "execution_count": 51,
     "metadata": {},
     "output_type": "execute_result"
    }
   ],
   "source": [
    "corr_matrix['Class'].sort_values(ascending=False)"
   ]
  },
  {
   "cell_type": "code",
   "execution_count": 52,
   "id": "df1dec31",
   "metadata": {},
   "outputs": [
    {
     "data": {
      "text/plain": [
       "<AxesSubplot:>"
      ]
     },
     "execution_count": 52,
     "metadata": {},
     "output_type": "execute_result"
    },
    {
     "data": {
      "image/png": "[encoded data removed]",
      "text/plain": [
       "<Figure size 432x288 with 2 Axes>"
      ]
     },
     "metadata": {
      "needs_background": "light"
     },
     "output_type": "display_data"
    }
   ],
   "source": [
    "sns.heatmap(corr_matrix)"
   ]
  },
  {
   "cell_type": "code",
   "execution_count": 53,
   "id": "25e63f83",
   "metadata": {},
   "outputs": [
    {
     "name": "stdout",
     "output_type": "stream",
     "text": [
      "Requirement already satisfied: Advanced-scorecard-builder in ./.venv/lib/python3.8/site-packages (1.0.2)\n",
      "Requirement already satisfied: regressors in ./.venv/lib/python3.8/site-packages (from Advanced-scorecard-builder) (0.0.3)\n",
      "Requirement already satisfied: numpy>=1.11.3 in ./.venv/lib/python3.8/site-packages (from Advanced-scorecard-builder) (1.19.5)\n",
      "Requirement already satisfied: matplotlib>=2.0.0 in ./.venv/lib/python3.8/site-packages (from Advanced-scorecard-builder) (3.4.1)\n",
      "Requirement already satisfied: pandas>=0.19.2 in ./.venv/lib/python3.8/site-packages (from Advanced-scorecard-builder) (1.2.3)\n",
      "Requirement already satisfied: pyparsing>=2.2.1 in ./.venv/lib/python3.8/site-packages (from matplotlib>=2.0.0->Advanced-scorecard-builder) (2.4.7)\n",
      "Requirement already satisfied: pillow>=6.2.0 in ./.venv/lib/python3.8/site-packages (from matplotlib>=2.0.0->Advanced-scorecard-builder) (8.2.0)\n",
      "Requirement already satisfied: kiwisolver>=1.0.1 in ./.venv/lib/python3.8/site-packages (from matplotlib>=2.0.0->Advanced-scorecard-builder) (1.3.1)\n",
      "Requirement already satisfied: cycler>=0.10 in ./.venv/lib/python3.8/site-packages (from matplotlib>=2.0.0->Advanced-scorecard-builder) (0.10.0)\n",
      "Requirement already satisfied: python-dateutil>=2.7 in ./.venv/lib/python3.8/site-packages (from matplotlib>=2.0.0->Advanced-scorecard-builder) (2.8.1)\n",
      "Requirement already satisfied: six in ./.venv/lib/python3.8/site-packages (from cycler>=0.10->matplotlib>=2.0.0->Advanced-scorecard-builder) (1.15.0)\n",
      "Requirement already satisfied: pytz>=2017.3 in ./.venv/lib/python3.8/site-packages (from pandas>=0.19.2->Advanced-scorecard-builder) (2021.1)\n",
      "Requirement already satisfied: scipy>=0.9 in ./.venv/lib/python3.8/site-packages (from regressors->Advanced-scorecard-builder) (1.6.1)\n",
      "Requirement already satisfied: scikit-learn>=0.17 in ./.venv/lib/python3.8/site-packages (from regressors->Advanced-scorecard-builder) (0.24.1)\n",
      "Requirement already satisfied: seaborn in ./.venv/lib/python3.8/site-packages (from regressors->Advanced-scorecard-builder) (0.11.1)\n",
      "Requirement already satisfied: statsmodels>=0.6.1 in ./.venv/lib/python3.8/site-packages (from regressors->Advanced-scorecard-builder) (0.12.2)\n",
      "Requirement already satisfied: joblib>=0.11 in ./.venv/lib/python3.8/site-packages (from scikit-learn>=0.17->regressors->Advanced-scorecard-builder) (1.0.1)\n",
      "Requirement already satisfied: threadpoolctl>=2.0.0 in ./.venv/lib/python3.8/site-packages (from scikit-learn>=0.17->regressors->Advanced-scorecard-builder) (2.1.0)\n",
      "Requirement already satisfied: patsy>=0.5 in ./.venv/lib/python3.8/site-packages (from statsmodels>=0.6.1->regressors->Advanced-scorecard-builder) (0.5.1)\n"
     ]
    }
   ],
   "source": [
    "!pip install Advanced-scorecard-builder"
   ]
  },
  {
   "cell_type": "code",
   "execution_count": 54,
   "id": "debc1e0e",
   "metadata": {},
   "outputs": [],
   "source": [
    "from AmaFree import AdvancedScorecardBuilder as asb"
   ]
  },
  {
   "cell_type": "code",
   "execution_count": 55,
   "id": "c4a89acb",
   "metadata": {},
   "outputs": [],
   "source": [
    "X = df2\n",
    "t = asb(X,'Class')"
   ]
  },
  {
   "cell_type": "code",
   "execution_count": 56,
   "id": "9713a653",
   "metadata": {},
   "outputs": [
    {
     "name": "stdout",
     "output_type": "stream",
     "text": [
      "Unnamed: 0\n",
      "V1\n",
      "V2\n",
      "V3\n",
      "V4\n",
      "V5\n",
      "V6\n",
      "V7\n",
      "V8\n",
      "V9\n",
      "V10\n",
      "V11\n",
      "V12\n",
      "V13\n",
      "V14\n",
      "V15\n",
      "V16\n",
      "V17\n",
      "V18\n",
      "V19\n",
      "V20\n",
      "V21\n",
      "V22\n",
      "V23\n",
      "V24\n",
      "V25\n",
      "V26\n",
      "V27\n",
      "V28\n",
      "Amount\n"
     ]
    }
   ],
   "source": [
    "t.fit()"
   ]
  },
  {
   "cell_type": "code",
   "execution_count": 57,
   "id": "56bc03c6",
   "metadata": {},
   "outputs": [
    {
     "data": {
      "text/html": [
       "<div>\n",
       "<style scoped>\n",
       "    .dataframe tbody tr th:only-of-type {\n",
       "        vertical-align: middle;\n",
       "    }\n",
       "\n",
       "    .dataframe tbody tr th {\n",
       "        vertical-align: top;\n",
       "    }\n",
       "\n",
       "    .dataframe thead th {\n",
       "        text-align: right;\n",
       "    }\n",
       "</style>\n",
       "<table border=\"1\" class=\"dataframe\">\n",
       "  <thead>\n",
       "    <tr style=\"text-align: right;\">\n",
       "      <th></th>\n",
       "      <th>label</th>\n",
       "      <th>variable</th>\n",
       "      <th>score</th>\n",
       "    </tr>\n",
       "  </thead>\n",
       "  <tbody>\n",
       "    <tr>\n",
       "      <th>0</th>\n",
       "      <td>1.158 &lt; V4 &lt;= 1.632</td>\n",
       "      <td>V4</td>\n",
       "      <td>42</td>\n",
       "    </tr>\n",
       "    <tr>\n",
       "      <th>1</th>\n",
       "      <td>2.474 &lt; V4</td>\n",
       "      <td>V4</td>\n",
       "      <td>86</td>\n",
       "    </tr>\n",
       "    <tr>\n",
       "      <th>2</th>\n",
       "      <td>1.632 &lt; V4 &lt;= 2.474</td>\n",
       "      <td>V4</td>\n",
       "      <td>102</td>\n",
       "    </tr>\n",
       "    <tr>\n",
       "      <th>3</th>\n",
       "      <td>(not missing) and V4 &lt;= 1.158</td>\n",
       "      <td>V4</td>\n",
       "      <td>133</td>\n",
       "    </tr>\n",
       "    <tr>\n",
       "      <th>4</th>\n",
       "      <td>-2.246 &lt; V12 &lt;= -1.074</td>\n",
       "      <td>V12</td>\n",
       "      <td>42</td>\n",
       "    </tr>\n",
       "    <tr>\n",
       "      <th>5</th>\n",
       "      <td>-1.074 &lt; V12 &lt;= -0.276</td>\n",
       "      <td>V12</td>\n",
       "      <td>119</td>\n",
       "    </tr>\n",
       "    <tr>\n",
       "      <th>6</th>\n",
       "      <td>-0.276 &lt; V12</td>\n",
       "      <td>V12</td>\n",
       "      <td>152</td>\n",
       "    </tr>\n",
       "    <tr>\n",
       "      <th>7</th>\n",
       "      <td>(not missing) and V12 &lt;= -2.246</td>\n",
       "      <td>V12</td>\n",
       "      <td>157</td>\n",
       "    </tr>\n",
       "    <tr>\n",
       "      <th>8</th>\n",
       "      <td>-1.199 &lt; V14 &lt;= -0.806</td>\n",
       "      <td>V14</td>\n",
       "      <td>42</td>\n",
       "    </tr>\n",
       "    <tr>\n",
       "      <th>9</th>\n",
       "      <td>-0.33 &lt; V14</td>\n",
       "      <td>V14</td>\n",
       "      <td>96</td>\n",
       "    </tr>\n",
       "    <tr>\n",
       "      <th>10</th>\n",
       "      <td>-0.806 &lt; V14 &lt;= -0.33</td>\n",
       "      <td>V14</td>\n",
       "      <td>142</td>\n",
       "    </tr>\n",
       "    <tr>\n",
       "      <th>11</th>\n",
       "      <td>(not missing) and V14 &lt;= -1.199</td>\n",
       "      <td>V14</td>\n",
       "      <td>172</td>\n",
       "    </tr>\n",
       "    <tr>\n",
       "      <th>12</th>\n",
       "      <td>-1.024 &lt; V16 &lt;= 1.301</td>\n",
       "      <td>V16</td>\n",
       "      <td>42</td>\n",
       "    </tr>\n",
       "    <tr>\n",
       "      <th>13</th>\n",
       "      <td>(not missing) and V16 &lt;= -1.488</td>\n",
       "      <td>V16</td>\n",
       "      <td>84</td>\n",
       "    </tr>\n",
       "    <tr>\n",
       "      <th>14</th>\n",
       "      <td>1.301 &lt; V16</td>\n",
       "      <td>V16</td>\n",
       "      <td>85</td>\n",
       "    </tr>\n",
       "    <tr>\n",
       "      <th>15</th>\n",
       "      <td>-1.488 &lt; V16 &lt;= -1.024</td>\n",
       "      <td>V16</td>\n",
       "      <td>116</td>\n",
       "    </tr>\n",
       "    <tr>\n",
       "      <th>16</th>\n",
       "      <td>(not missing) and V21 &lt;= -0.503</td>\n",
       "      <td>V21</td>\n",
       "      <td>42</td>\n",
       "    </tr>\n",
       "    <tr>\n",
       "      <th>17</th>\n",
       "      <td>0.49 &lt; V21</td>\n",
       "      <td>V21</td>\n",
       "      <td>72</td>\n",
       "    </tr>\n",
       "    <tr>\n",
       "      <th>18</th>\n",
       "      <td>-0.503 &lt; V21 &lt;= 0.276</td>\n",
       "      <td>V21</td>\n",
       "      <td>74</td>\n",
       "    </tr>\n",
       "    <tr>\n",
       "      <th>19</th>\n",
       "      <td>0.276 &lt; V21 &lt;= 0.49</td>\n",
       "      <td>V21</td>\n",
       "      <td>109</td>\n",
       "    </tr>\n",
       "    <tr>\n",
       "      <th>20</th>\n",
       "      <td>0.699 &lt; V26</td>\n",
       "      <td>V26</td>\n",
       "      <td>42</td>\n",
       "    </tr>\n",
       "    <tr>\n",
       "      <th>21</th>\n",
       "      <td>(not missing) and V26 &lt;= -0.284</td>\n",
       "      <td>V26</td>\n",
       "      <td>64</td>\n",
       "    </tr>\n",
       "    <tr>\n",
       "      <th>22</th>\n",
       "      <td>-0.284 &lt; V26 &lt;= 0.436</td>\n",
       "      <td>V26</td>\n",
       "      <td>86</td>\n",
       "    </tr>\n",
       "    <tr>\n",
       "      <th>23</th>\n",
       "      <td>0.436 &lt; V26 &lt;= 0.699</td>\n",
       "      <td>V26</td>\n",
       "      <td>87</td>\n",
       "    </tr>\n",
       "    <tr>\n",
       "      <th>24</th>\n",
       "      <td>98.005 &lt; Amount &lt;= 129.985</td>\n",
       "      <td>Amount</td>\n",
       "      <td>42</td>\n",
       "    </tr>\n",
       "    <tr>\n",
       "      <th>25</th>\n",
       "      <td>129.985 &lt; Amount</td>\n",
       "      <td>Amount</td>\n",
       "      <td>44</td>\n",
       "    </tr>\n",
       "    <tr>\n",
       "      <th>26</th>\n",
       "      <td>(not missing) and Amount &lt;= 1.105</td>\n",
       "      <td>Amount</td>\n",
       "      <td>72</td>\n",
       "    </tr>\n",
       "    <tr>\n",
       "      <th>27</th>\n",
       "      <td>1.105 &lt; Amount &lt;= 98.005</td>\n",
       "      <td>Amount</td>\n",
       "      <td>89</td>\n",
       "    </tr>\n",
       "  </tbody>\n",
       "</table>\n",
       "</div>"
      ],
      "text/plain": [
       "                                label variable  score\n",
       "0                 1.158 < V4 <= 1.632       V4     42\n",
       "1                          2.474 < V4       V4     86\n",
       "2                 1.632 < V4 <= 2.474       V4    102\n",
       "3       (not missing) and V4 <= 1.158       V4    133\n",
       "4              -2.246 < V12 <= -1.074      V12     42\n",
       "5              -1.074 < V12 <= -0.276      V12    119\n",
       "6                        -0.276 < V12      V12    152\n",
       "7     (not missing) and V12 <= -2.246      V12    157\n",
       "8              -1.199 < V14 <= -0.806      V14     42\n",
       "9                         -0.33 < V14      V14     96\n",
       "10              -0.806 < V14 <= -0.33      V14    142\n",
       "11    (not missing) and V14 <= -1.199      V14    172\n",
       "12              -1.024 < V16 <= 1.301      V16     42\n",
       "13    (not missing) and V16 <= -1.488      V16     84\n",
       "14                        1.301 < V16      V16     85\n",
       "15             -1.488 < V16 <= -1.024      V16    116\n",
       "16    (not missing) and V21 <= -0.503      V21     42\n",
       "17                         0.49 < V21      V21     72\n",
       "18              -0.503 < V21 <= 0.276      V21     74\n",
       "19                0.276 < V21 <= 0.49      V21    109\n",
       "20                        0.699 < V26      V26     42\n",
       "21    (not missing) and V26 <= -0.284      V26     64\n",
       "22              -0.284 < V26 <= 0.436      V26     86\n",
       "23               0.436 < V26 <= 0.699      V26     87\n",
       "24         98.005 < Amount <= 129.985   Amount     42\n",
       "25                   129.985 < Amount   Amount     44\n",
       "26  (not missing) and Amount <= 1.105   Amount     72\n",
       "27           1.105 < Amount <= 98.005   Amount     89"
      ]
     },
     "execution_count": 57,
     "metadata": {},
     "output_type": "execute_result"
    }
   ],
   "source": [
    "t.get_scorecard()"
   ]
  },
  {
   "cell_type": "code",
   "execution_count": 58,
   "id": "e0cc1e0d",
   "metadata": {},
   "outputs": [
    {
     "data": {
      "text/plain": [
       "{'coef': {'V4': 0.6053766486317326,\n",
       "  'V8': -1.020747834832705,\n",
       "  'V12': 0.693130179582045,\n",
       "  'V14': 0.64603233859261,\n",
       "  'V16': 0.5363985135881946,\n",
       "  'V21': 0.5843564852911061,\n",
       "  'V26': 0.7312596005413625,\n",
       "  'Amount': 0.6601018535366594},\n",
       " 'p_value': {'V4': 0.0,\n",
       "  'V8': 0.0,\n",
       "  'V12': 0.0,\n",
       "  'V14': 0.0,\n",
       "  'V16': 0.0,\n",
       "  'V21': 0.0,\n",
       "  'V26': 0.0,\n",
       "  'Amount': 0.0},\n",
       " 'features': ['V4', 'V8', 'V12', 'V14', 'V16', 'V21', 'V26', 'Amount'],\n",
       " 'model': 'LogisticRegressionCV',\n",
       " 'gini': 0.9843043236290496,\n",
       " 'acc': 0.9990333655544815,\n",
       " 'Precision': 0.819672131147541,\n",
       " 'Recall': 0.7352941176470589,\n",
       " 'F1': 0.7751937984496124,\n",
       " 'intercept': array([15.65397769])}"
      ]
     },
     "execution_count": 58,
     "metadata": {},
     "output_type": "execute_result"
    }
   ],
   "source": [
    "t.model_info_"
   ]
  },
  {
   "cell_type": "code",
   "execution_count": 59,
   "id": "95066a1c",
   "metadata": {},
   "outputs": [],
   "source": [
    "t.html_report('raport.html')"
   ]
  }
 ],
 "metadata": {
  "kernelspec": {
   "display_name": "Python 3",
   "language": "python",
   "name": "python3"
  },
  "language_info": {
   "codemirror_mode": {
    "name": "ipython",
    "version": 3
   },
   "file_extension": ".py",
   "mimetype": "text/x-python",
   "name": "python",
   "nbconvert_exporter": "python",
   "pygments_lexer": "ipython3",
   "version": "3.8.10"
  }
 },
 "nbformat": 4,
 "nbformat_minor": 5
}
